{
 "cells": [
  {
   "cell_type": "markdown",
   "id": "3c15d6a8-0866-4df4-93e3-63198fe262a6",
   "metadata": {},
   "source": [
    "# Training Model\n",
    "\n",
    "This is the **second** notebook of the series.\n",
    "\n",
    "> Make sure you have executed the previous one [2_Prep.ipynb](2_Prep.ipynb), otherwise this notebook will fail.\n",
    "---"
   ]
  },
  {
   "cell_type": "markdown",
   "id": "8f474b65-ea4b-4c75-8a99-5e27308baa17",
   "metadata": {},
   "source": [
    "# Objective\n",
    "\n",
    "After exploring the data and preparing it, now is the time to train our selected model. The following cells will load the necessary packages and perform the training of our model considering the defined _training_, _test_ and _validation_ sets.\n",
    "\n",
    "At the end, a trained model will be pickled, so that we could finally use it to Forecast in the final Notebook."
   ]
  }
 ],
 "metadata": {
  "kernelspec": {
   "display_name": "Python 3.8.6 64-bit ('.venv': poetry)",
   "language": "python",
   "name": "python386jvsc74a57bd09ae24440891ded0db606359acf18939257a6957a5b3646e0051971e5435b1274"
  },
  "language_info": {
   "codemirror_mode": {
    "name": "ipython",
    "version": 3
   },
   "file_extension": ".py",
   "mimetype": "text/x-python",
   "name": "python",
   "nbconvert_exporter": "python",
   "pygments_lexer": "ipython3",
   "version": "3.8.6"
  }
 },
 "nbformat": 4,
 "nbformat_minor": 5
}
