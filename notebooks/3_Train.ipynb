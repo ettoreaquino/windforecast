{
 "cells": [
  {
   "cell_type": "markdown",
   "id": "3c15d6a8-0866-4df4-93e3-63198fe262a6",
   "metadata": {},
   "source": [
    "# Training Model\n",
    "\n",
    "This is the **second** notebook of the series.\n",
    "\n",
    "> Make sure you have executed the previous one [2_Prep.ipynb](2_Prep.ipynb). This notebook depends on the class WindForecaster created in the previous notebook\n",
    "---"
   ]
  },
  {
   "cell_type": "markdown",
   "id": "8f474b65-ea4b-4c75-8a99-5e27308baa17",
   "metadata": {},
   "source": [
    "# Objective\n",
    "\n",
    "After exploring the data and preparing it, now is the time to train our selected model. The following cells will load the necessary packages and perform the training of our model considering the defined _training_, _test_ and _validation_ sets.\n",
    "\n",
    "At the end, a trained model will be pickled, so that we could finally use it to Forecast in the final Notebook.\n",
    "\n",
    "---"
   ]
  },
  {
   "cell_type": "markdown",
   "id": "5546604f-0c17-4616-b7b8-6227d5ead398",
   "metadata": {},
   "source": [
    "## Enhancing the `WindForecaster`\n",
    "\n",
    "Now it is time to create a function to train our model using the `model.fit()` method"
   ]
  },
  {
   "cell_type": "code",
   "execution_count": 1,
   "id": "445da0f6-98e8-45ed-acf0-57e154807ab8",
   "metadata": {},
   "outputs": [
    {
     "name": "stderr",
     "output_type": "stream",
     "text": [
      "2021-07-08 01:40:34.865389: W tensorflow/stream_executor/platform/default/dso_loader.cc:64] Could not load dynamic library 'libcudart.so.11.0'; dlerror: libcudart.so.11.0: cannot open shared object file: No such file or directory\n",
      "2021-07-08 01:40:34.865406: I tensorflow/stream_executor/cuda/cudart_stub.cc:29] Ignore above cudart dlerror if you do not have a GPU set up on your machine.\n"
     ]
    }
   ],
   "source": [
    "import pandas as pd\n",
    "import plotly.express as px\n",
    "\n",
    "from main import WindForecaster"
   ]
  },
  {
   "cell_type": "code",
   "execution_count": 2,
   "id": "e7c85c05-93c8-4e68-98ef-792c79a6b2fe",
   "metadata": {},
   "outputs": [
    {
     "name": "stderr",
     "output_type": "stream",
     "text": [
      "2021-07-08 01:40:35.899637: W tensorflow/stream_executor/platform/default/dso_loader.cc:64] Could not load dynamic library 'libcuda.so.1'; dlerror: libcuda.so.1: cannot open shared object file: No such file or directory\n",
      "2021-07-08 01:40:35.899659: W tensorflow/stream_executor/cuda/cuda_driver.cc:326] failed call to cuInit: UNKNOWN ERROR (303)\n",
      "2021-07-08 01:40:35.899686: I tensorflow/stream_executor/cuda/cuda_diagnostics.cc:156] kernel driver does not appear to be running on this host (HM01): /proc/driver/nvidia/version does not exist\n",
      "2021-07-08 01:40:35.899845: I tensorflow/core/platform/cpu_feature_guard.cc:142] This TensorFlow binary is optimized with oneAPI Deep Neural Network Library (oneDNN) to use the following CPU instructions in performance-critical operations:  AVX2 FMA\n",
      "To enable them in other operations, rebuild TensorFlow with the appropriate compiler flags.\n"
     ]
    }
   ],
   "source": [
    "df = pd.read_pickle('explore.pkl')\n",
    "\n",
    "WindForecaster = WindForecaster(df=df,\n",
    "                                test_size=216,\n",
    "                                prediction_window=4,\n",
    "                                forecast_delay=2,\n",
    "                                forecast_size=1,\n",
    "                                activation_function='tanh',\n",
    "                                loss_metric=\"mean_squared_error\",\n",
    "                                optimizer=\"adam\")"
   ]
  },
  {
   "cell_type": "code",
   "execution_count": 3,
   "id": "026fd7a5-9918-4e98-9ffc-58f468a12863",
   "metadata": {
    "tags": []
   },
   "outputs": [
    {
     "name": "stderr",
     "output_type": "stream",
     "text": [
      "2021-07-08 01:40:39.174282: I tensorflow/compiler/mlir/mlir_graph_optimization_pass.cc:176] None of the MLIR Optimization Passes are enabled (registered 2)\n",
      "2021-07-08 01:40:39.191258: I tensorflow/core/platform/profile_utils/cpu_utils.cc:114] CPU Frequency: 2000800000 Hz\n"
     ]
    },
    {
     "name": "stdout",
     "output_type": "stream",
     "text": [
      "Epoch 1/100\n",
      "131/131 [==============================] - 1s 991us/step - loss: 0.1442 - root_mean_squared_error: 0.3797\n",
      "Epoch 2/100\n",
      "131/131 [==============================] - 0s 1ms/step - loss: 0.0416 - root_mean_squared_error: 0.2039\n",
      "Epoch 3/100\n",
      "131/131 [==============================] - 0s 973us/step - loss: 0.0314 - root_mean_squared_error: 0.1772\n",
      "Epoch 4/100\n",
      "131/131 [==============================] - 0s 958us/step - loss: 0.0304 - root_mean_squared_error: 0.1744\n",
      "Epoch 5/100\n",
      "131/131 [==============================] - 0s 947us/step - loss: 0.0298 - root_mean_squared_error: 0.1726\n",
      "Epoch 6/100\n",
      "131/131 [==============================] - 0s 921us/step - loss: 0.0292 - root_mean_squared_error: 0.1708\n",
      "Epoch 7/100\n",
      "131/131 [==============================] - 0s 978us/step - loss: 0.0286 - root_mean_squared_error: 0.1691\n",
      "Epoch 8/100\n",
      "131/131 [==============================] - 0s 925us/step - loss: 0.0283 - root_mean_squared_error: 0.1682\n",
      "Epoch 9/100\n",
      "131/131 [==============================] - 0s 1ms/step - loss: 0.0278 - root_mean_squared_error: 0.1667\n",
      "Epoch 10/100\n",
      "131/131 [==============================] - 0s 942us/step - loss: 0.0274 - root_mean_squared_error: 0.1656\n",
      "Epoch 11/100\n",
      "131/131 [==============================] - 0s 913us/step - loss: 0.0272 - root_mean_squared_error: 0.1649\n",
      "Epoch 12/100\n",
      "131/131 [==============================] - 0s 1ms/step - loss: 0.0268 - root_mean_squared_error: 0.1638\n",
      "Epoch 13/100\n",
      "131/131 [==============================] - 0s 1ms/step - loss: 0.0267 - root_mean_squared_error: 0.1633\n",
      "Epoch 14/100\n",
      "131/131 [==============================] - 0s 1ms/step - loss: 0.0264 - root_mean_squared_error: 0.1624\n",
      "Epoch 15/100\n",
      "131/131 [==============================] - 0s 1ms/step - loss: 0.0262 - root_mean_squared_error: 0.1618\n",
      "Epoch 16/100\n",
      "131/131 [==============================] - 0s 957us/step - loss: 0.0260 - root_mean_squared_error: 0.1614\n",
      "Epoch 17/100\n",
      "131/131 [==============================] - 0s 932us/step - loss: 0.0258 - root_mean_squared_error: 0.1607\n",
      "Epoch 18/100\n",
      "131/131 [==============================] - 0s 977us/step - loss: 0.0258 - root_mean_squared_error: 0.1606\n",
      "Epoch 19/100\n",
      "131/131 [==============================] - 0s 983us/step - loss: 0.0255 - root_mean_squared_error: 0.1598\n",
      "Epoch 20/100\n",
      "131/131 [==============================] - 0s 926us/step - loss: 0.0254 - root_mean_squared_error: 0.1592\n",
      "Epoch 21/100\n",
      "131/131 [==============================] - 0s 936us/step - loss: 0.0253 - root_mean_squared_error: 0.1589\n",
      "Epoch 22/100\n",
      "131/131 [==============================] - 0s 1ms/step - loss: 0.0252 - root_mean_squared_error: 0.1586\n",
      "Epoch 23/100\n",
      "131/131 [==============================] - 0s 941us/step - loss: 0.0250 - root_mean_squared_error: 0.1581\n",
      "Epoch 24/100\n",
      "131/131 [==============================] - 0s 934us/step - loss: 0.0249 - root_mean_squared_error: 0.1578\n",
      "Epoch 25/100\n",
      "131/131 [==============================] - 0s 1ms/step - loss: 0.0250 - root_mean_squared_error: 0.1582\n",
      "Epoch 26/100\n",
      "131/131 [==============================] - 0s 1ms/step - loss: 0.0248 - root_mean_squared_error: 0.1575\n",
      "Epoch 27/100\n",
      "131/131 [==============================] - 0s 1ms/step - loss: 0.0248 - root_mean_squared_error: 0.1576\n",
      "Epoch 28/100\n",
      "131/131 [==============================] - 0s 1ms/step - loss: 0.0246 - root_mean_squared_error: 0.1569\n",
      "Epoch 29/100\n",
      "131/131 [==============================] - 0s 1ms/step - loss: 0.0246 - root_mean_squared_error: 0.1569\n",
      "Epoch 30/100\n",
      "131/131 [==============================] - 0s 931us/step - loss: 0.0246 - root_mean_squared_error: 0.1568\n",
      "Epoch 31/100\n",
      "131/131 [==============================] - 0s 979us/step - loss: 0.0245 - root_mean_squared_error: 0.1564\n",
      "Epoch 32/100\n",
      "131/131 [==============================] - 0s 831us/step - loss: 0.0244 - root_mean_squared_error: 0.1561\n",
      "Epoch 33/100\n",
      "131/131 [==============================] - 0s 863us/step - loss: 0.0244 - root_mean_squared_error: 0.1561\n",
      "Epoch 34/100\n",
      "131/131 [==============================] - 0s 839us/step - loss: 0.0244 - root_mean_squared_error: 0.1562\n",
      "Epoch 35/100\n",
      "131/131 [==============================] - 0s 987us/step - loss: 0.0244 - root_mean_squared_error: 0.1562\n",
      "Epoch 36/100\n",
      "131/131 [==============================] - 0s 1ms/step - loss: 0.0243 - root_mean_squared_error: 0.1558\n",
      "Epoch 37/100\n",
      "131/131 [==============================] - 0s 956us/step - loss: 0.0244 - root_mean_squared_error: 0.1562\n",
      "Epoch 38/100\n",
      "131/131 [==============================] - 0s 1ms/step - loss: 0.0242 - root_mean_squared_error: 0.1556\n",
      "Epoch 39/100\n",
      "131/131 [==============================] - 0s 1ms/step - loss: 0.0242 - root_mean_squared_error: 0.1554\n",
      "Epoch 40/100\n",
      "131/131 [==============================] - 0s 1ms/step - loss: 0.0241 - root_mean_squared_error: 0.1552\n",
      "Epoch 41/100\n",
      "131/131 [==============================] - 0s 1ms/step - loss: 0.0240 - root_mean_squared_error: 0.1548\n",
      "Epoch 42/100\n",
      "131/131 [==============================] - 0s 1ms/step - loss: 0.0241 - root_mean_squared_error: 0.1553\n",
      "Epoch 43/100\n",
      "131/131 [==============================] - 0s 1ms/step - loss: 0.0242 - root_mean_squared_error: 0.1556\n",
      "Epoch 44/100\n",
      "131/131 [==============================] - 0s 851us/step - loss: 0.0242 - root_mean_squared_error: 0.1555\n",
      "Epoch 45/100\n",
      "131/131 [==============================] - 0s 830us/step - loss: 0.0240 - root_mean_squared_error: 0.1551\n",
      "Epoch 46/100\n",
      "131/131 [==============================] - 0s 860us/step - loss: 0.0241 - root_mean_squared_error: 0.1553\n",
      "Epoch 47/100\n",
      "131/131 [==============================] - 0s 833us/step - loss: 0.0240 - root_mean_squared_error: 0.1550\n",
      "Epoch 48/100\n",
      "131/131 [==============================] - 0s 810us/step - loss: 0.0240 - root_mean_squared_error: 0.1550\n",
      "Epoch 49/100\n",
      "131/131 [==============================] - 0s 812us/step - loss: 0.0240 - root_mean_squared_error: 0.1549\n",
      "Epoch 50/100\n",
      "131/131 [==============================] - 0s 817us/step - loss: 0.0240 - root_mean_squared_error: 0.1549\n",
      "Epoch 51/100\n",
      "131/131 [==============================] - 0s 825us/step - loss: 0.0241 - root_mean_squared_error: 0.1552\n",
      "Epoch 52/100\n",
      "131/131 [==============================] - 0s 805us/step - loss: 0.0240 - root_mean_squared_error: 0.1549\n",
      "Epoch 53/100\n",
      "131/131 [==============================] - 0s 844us/step - loss: 0.0239 - root_mean_squared_error: 0.1546\n",
      "Epoch 54/100\n",
      "131/131 [==============================] - 0s 812us/step - loss: 0.0239 - root_mean_squared_error: 0.1547\n",
      "Epoch 55/100\n",
      "131/131 [==============================] - 0s 813us/step - loss: 0.0239 - root_mean_squared_error: 0.1544\n",
      "Epoch 56/100\n",
      "131/131 [==============================] - 0s 801us/step - loss: 0.0240 - root_mean_squared_error: 0.1548\n",
      "Epoch 57/100\n",
      "131/131 [==============================] - 0s 832us/step - loss: 0.0240 - root_mean_squared_error: 0.1548\n",
      "Epoch 58/100\n",
      "131/131 [==============================] - 0s 838us/step - loss: 0.0239 - root_mean_squared_error: 0.1547\n",
      "Epoch 59/100\n",
      "131/131 [==============================] - 0s 844us/step - loss: 0.0241 - root_mean_squared_error: 0.1554\n",
      "Epoch 60/100\n",
      "131/131 [==============================] - 0s 824us/step - loss: 0.0240 - root_mean_squared_error: 0.1548\n",
      "Epoch 61/100\n",
      "131/131 [==============================] - 0s 831us/step - loss: 0.0239 - root_mean_squared_error: 0.1544\n",
      "Epoch 62/100\n",
      "131/131 [==============================] - 0s 827us/step - loss: 0.0239 - root_mean_squared_error: 0.1546\n",
      "Epoch 63/100\n",
      "131/131 [==============================] - 0s 793us/step - loss: 0.0239 - root_mean_squared_error: 0.1547\n",
      "Epoch 64/100\n",
      "131/131 [==============================] - 0s 1ms/step - loss: 0.0238 - root_mean_squared_error: 0.1544\n",
      "Epoch 65/100\n",
      "131/131 [==============================] - 0s 1ms/step - loss: 0.0239 - root_mean_squared_error: 0.1545\n",
      "Epoch 66/100\n",
      "131/131 [==============================] - 0s 981us/step - loss: 0.0239 - root_mean_squared_error: 0.1546\n",
      "Epoch 67/100\n",
      "131/131 [==============================] - 0s 802us/step - loss: 0.0238 - root_mean_squared_error: 0.1541\n",
      "Epoch 68/100\n",
      "131/131 [==============================] - 0s 838us/step - loss: 0.0238 - root_mean_squared_error: 0.1542\n",
      "Epoch 69/100\n",
      "131/131 [==============================] - 0s 842us/step - loss: 0.0238 - root_mean_squared_error: 0.1544\n",
      "Epoch 70/100\n",
      "131/131 [==============================] - 0s 840us/step - loss: 0.0238 - root_mean_squared_error: 0.1543\n",
      "Epoch 71/100\n",
      "131/131 [==============================] - 0s 826us/step - loss: 0.0238 - root_mean_squared_error: 0.1544\n",
      "Epoch 72/100\n",
      "131/131 [==============================] - 0s 874us/step - loss: 0.0238 - root_mean_squared_error: 0.1544\n",
      "Epoch 73/100\n",
      "131/131 [==============================] - 0s 832us/step - loss: 0.0238 - root_mean_squared_error: 0.1544\n",
      "Epoch 74/100\n",
      "131/131 [==============================] - 0s 840us/step - loss: 0.0238 - root_mean_squared_error: 0.1543\n",
      "Epoch 75/100\n",
      "131/131 [==============================] - 0s 808us/step - loss: 0.0239 - root_mean_squared_error: 0.1545\n",
      "Epoch 76/100\n",
      "131/131 [==============================] - 0s 819us/step - loss: 0.0238 - root_mean_squared_error: 0.1544\n",
      "Epoch 77/100\n",
      "131/131 [==============================] - 0s 840us/step - loss: 0.0238 - root_mean_squared_error: 0.1543\n",
      "Epoch 78/100\n",
      "131/131 [==============================] - 0s 855us/step - loss: 0.0238 - root_mean_squared_error: 0.1541\n",
      "Epoch 79/100\n",
      "131/131 [==============================] - 0s 805us/step - loss: 0.0238 - root_mean_squared_error: 0.1541\n",
      "Epoch 80/100\n",
      "131/131 [==============================] - 0s 811us/step - loss: 0.0238 - root_mean_squared_error: 0.1542\n",
      "Epoch 81/100\n",
      "131/131 [==============================] - 0s 799us/step - loss: 0.0238 - root_mean_squared_error: 0.1543\n",
      "Epoch 82/100\n",
      "131/131 [==============================] - 0s 811us/step - loss: 0.0237 - root_mean_squared_error: 0.1540\n",
      "Epoch 83/100\n",
      "131/131 [==============================] - 0s 791us/step - loss: 0.0238 - root_mean_squared_error: 0.1544\n",
      "Epoch 84/100\n",
      "131/131 [==============================] - 0s 806us/step - loss: 0.0238 - root_mean_squared_error: 0.1543\n",
      "Epoch 85/100\n",
      "131/131 [==============================] - 0s 814us/step - loss: 0.0240 - root_mean_squared_error: 0.1549\n",
      "Epoch 86/100\n",
      "131/131 [==============================] - 0s 843us/step - loss: 0.0238 - root_mean_squared_error: 0.1542\n",
      "Epoch 87/100\n",
      "131/131 [==============================] - 0s 792us/step - loss: 0.0237 - root_mean_squared_error: 0.1541\n",
      "Epoch 88/100\n",
      "131/131 [==============================] - 0s 799us/step - loss: 0.0238 - root_mean_squared_error: 0.1542\n",
      "Epoch 89/100\n",
      "131/131 [==============================] - 0s 818us/step - loss: 0.0238 - root_mean_squared_error: 0.1542\n",
      "Epoch 90/100\n",
      "131/131 [==============================] - 0s 825us/step - loss: 0.0238 - root_mean_squared_error: 0.1543\n",
      "Epoch 91/100\n",
      "131/131 [==============================] - 0s 922us/step - loss: 0.0238 - root_mean_squared_error: 0.1543\n",
      "Epoch 92/100\n",
      "131/131 [==============================] - 0s 862us/step - loss: 0.0241 - root_mean_squared_error: 0.1552\n",
      "Epoch 93/100\n",
      "131/131 [==============================] - 0s 785us/step - loss: 0.0239 - root_mean_squared_error: 0.1547\n",
      "Epoch 94/100\n",
      "131/131 [==============================] - 0s 839us/step - loss: 0.0239 - root_mean_squared_error: 0.1545\n",
      "Epoch 95/100\n",
      "131/131 [==============================] - 0s 813us/step - loss: 0.0238 - root_mean_squared_error: 0.1541\n",
      "Epoch 96/100\n",
      "131/131 [==============================] - 0s 896us/step - loss: 0.0237 - root_mean_squared_error: 0.1539\n",
      "Epoch 97/100\n",
      "131/131 [==============================] - 0s 841us/step - loss: 0.0237 - root_mean_squared_error: 0.1540\n",
      "Epoch 98/100\n",
      "131/131 [==============================] - 0s 840us/step - loss: 0.0237 - root_mean_squared_error: 0.1540\n",
      "Epoch 99/100\n",
      "131/131 [==============================] - 0s 853us/step - loss: 0.0238 - root_mean_squared_error: 0.1542\n",
      "Epoch 100/100\n",
      "131/131 [==============================] - 0s 819us/step - loss: 0.0238 - root_mean_squared_error: 0.1542\n"
     ]
    },
    {
     "data": {
      "application/vnd.plotly.v1+json": {
       "config": {
        "plotlyServerURL": "https://plot.ly"
       },
       "data": [
        {
         "hovertemplate": "Erro Metric=RMSE<br>Epoch=%{x}<br>Root Mean Squared value=%{y}<extra></extra>",
         "legendgroup": "RMSE",
         "line": {
          "color": "#636efa",
          "dash": "solid"
         },
         "mode": "lines",
         "name": "RMSE",
         "orientation": "v",
         "showlegend": true,
         "type": "scatter",
         "x": [
          0,
          1,
          2,
          3,
          4,
          5,
          6,
          7,
          8,
          9,
          10,
          11,
          12,
          13,
          14,
          15,
          16,
          17,
          18,
          19,
          20,
          21,
          22,
          23,
          24,
          25,
          26,
          27,
          28,
          29,
          30,
          31,
          32,
          33,
          34,
          35,
          36,
          37,
          38,
          39,
          40,
          41,
          42,
          43,
          44,
          45,
          46,
          47,
          48,
          49,
          50,
          51,
          52,
          53,
          54,
          55,
          56,
          57,
          58,
          59,
          60,
          61,
          62,
          63,
          64,
          65,
          66,
          67,
          68,
          69,
          70,
          71,
          72,
          73,
          74,
          75,
          76,
          77,
          78,
          79,
          80,
          81,
          82,
          83,
          84,
          85,
          86,
          87,
          88,
          89,
          90,
          91,
          92,
          93,
          94,
          95,
          96,
          97,
          98,
          99
         ],
         "xaxis": "x",
         "y": [
          0.37969765067100525,
          0.20385316014289856,
          0.17719057202339172,
          0.17436347901821136,
          0.17259415984153748,
          0.17080575227737427,
          0.16908349096775055,
          0.1681555211544037,
          0.16672027111053467,
          0.16557757556438446,
          0.16492608189582825,
          0.1638210415840149,
          0.16334335505962372,
          0.1624152511358261,
          0.1618298888206482,
          0.16135883331298828,
          0.16067352890968323,
          0.16061675548553467,
          0.1598215103149414,
          0.1592187136411667,
          0.15890304744243622,
          0.158594012260437,
          0.15810151398181915,
          0.1578233242034912,
          0.15820343792438507,
          0.1574748009443283,
          0.15758520364761353,
          0.1569131463766098,
          0.15686793625354767,
          0.15679939091205597,
          0.15640942752361298,
          0.15609407424926758,
          0.15614654123783112,
          0.15615037083625793,
          0.15619562566280365,
          0.15575218200683594,
          0.15620610117912292,
          0.15558917820453644,
          0.15543973445892334,
          0.1552249938249588,
          0.15481118857860565,
          0.1552649736404419,
          0.15555012226104736,
          0.15546606481075287,
          0.1550702005624771,
          0.15530477464199066,
          0.15502534806728363,
          0.1549568772315979,
          0.15493160486221313,
          0.15492570400238037,
          0.15519081056118011,
          0.15490084886550903,
          0.15458236634731293,
          0.15474243462085724,
          0.15443940460681915,
          0.1547805219888687,
          0.15482400357723236,
          0.15470676124095917,
          0.15535633265972137,
          0.15477371215820312,
          0.1544417291879654,
          0.15462280809879303,
          0.15465141832828522,
          0.1544179469347,
          0.1544591784477234,
          0.15456421673297882,
          0.1541198343038559,
          0.15418483316898346,
          0.1544148176908493,
          0.1543208658695221,
          0.15439139306545258,
          0.1543804258108139,
          0.15435516834259033,
          0.15431798994541168,
          0.15445075929164886,
          0.1543675661087036,
          0.15432757139205933,
          0.15411517024040222,
          0.1541450321674347,
          0.15421582758426666,
          0.15427088737487793,
          0.15402045845985413,
          0.15437142550945282,
          0.15426170825958252,
          0.15487290918827057,
          0.15424112975597382,
          0.1540987193584442,
          0.1542128026485443,
          0.15422047674655914,
          0.15429794788360596,
          0.15433186292648315,
          0.1552382856607437,
          0.1546521782875061,
          0.15448646247386932,
          0.15413668751716614,
          0.15392814576625824,
          0.15404874086380005,
          0.15401262044906616,
          0.15423953533172607,
          0.15419764816761017
         ],
         "yaxis": "y"
        }
       ],
       "layout": {
        "autosize": true,
        "legend": {
         "title": {
          "text": "Erro Metric"
         },
         "tracegroupgap": 0
        },
        "template": {
         "data": {
          "bar": [
           {
            "error_x": {
             "color": "#2a3f5f"
            },
            "error_y": {
             "color": "#2a3f5f"
            },
            "marker": {
             "line": {
              "color": "#E5ECF6",
              "width": 0.5
             },
             "pattern": {
              "fillmode": "overlay",
              "size": 10,
              "solidity": 0.2
             }
            },
            "type": "bar"
           }
          ],
          "barpolar": [
           {
            "marker": {
             "line": {
              "color": "#E5ECF6",
              "width": 0.5
             },
             "pattern": {
              "fillmode": "overlay",
              "size": 10,
              "solidity": 0.2
             }
            },
            "type": "barpolar"
           }
          ],
          "carpet": [
           {
            "aaxis": {
             "endlinecolor": "#2a3f5f",
             "gridcolor": "white",
             "linecolor": "white",
             "minorgridcolor": "white",
             "startlinecolor": "#2a3f5f"
            },
            "baxis": {
             "endlinecolor": "#2a3f5f",
             "gridcolor": "white",
             "linecolor": "white",
             "minorgridcolor": "white",
             "startlinecolor": "#2a3f5f"
            },
            "type": "carpet"
           }
          ],
          "choropleth": [
           {
            "colorbar": {
             "outlinewidth": 0,
             "ticks": ""
            },
            "type": "choropleth"
           }
          ],
          "contour": [
           {
            "colorbar": {
             "outlinewidth": 0,
             "ticks": ""
            },
            "colorscale": [
             [
              0,
              "#0d0887"
             ],
             [
              0.1111111111111111,
              "#46039f"
             ],
             [
              0.2222222222222222,
              "#7201a8"
             ],
             [
              0.3333333333333333,
              "#9c179e"
             ],
             [
              0.4444444444444444,
              "#bd3786"
             ],
             [
              0.5555555555555556,
              "#d8576b"
             ],
             [
              0.6666666666666666,
              "#ed7953"
             ],
             [
              0.7777777777777778,
              "#fb9f3a"
             ],
             [
              0.8888888888888888,
              "#fdca26"
             ],
             [
              1,
              "#f0f921"
             ]
            ],
            "type": "contour"
           }
          ],
          "contourcarpet": [
           {
            "colorbar": {
             "outlinewidth": 0,
             "ticks": ""
            },
            "type": "contourcarpet"
           }
          ],
          "heatmap": [
           {
            "colorbar": {
             "outlinewidth": 0,
             "ticks": ""
            },
            "colorscale": [
             [
              0,
              "#0d0887"
             ],
             [
              0.1111111111111111,
              "#46039f"
             ],
             [
              0.2222222222222222,
              "#7201a8"
             ],
             [
              0.3333333333333333,
              "#9c179e"
             ],
             [
              0.4444444444444444,
              "#bd3786"
             ],
             [
              0.5555555555555556,
              "#d8576b"
             ],
             [
              0.6666666666666666,
              "#ed7953"
             ],
             [
              0.7777777777777778,
              "#fb9f3a"
             ],
             [
              0.8888888888888888,
              "#fdca26"
             ],
             [
              1,
              "#f0f921"
             ]
            ],
            "type": "heatmap"
           }
          ],
          "heatmapgl": [
           {
            "colorbar": {
             "outlinewidth": 0,
             "ticks": ""
            },
            "colorscale": [
             [
              0,
              "#0d0887"
             ],
             [
              0.1111111111111111,
              "#46039f"
             ],
             [
              0.2222222222222222,
              "#7201a8"
             ],
             [
              0.3333333333333333,
              "#9c179e"
             ],
             [
              0.4444444444444444,
              "#bd3786"
             ],
             [
              0.5555555555555556,
              "#d8576b"
             ],
             [
              0.6666666666666666,
              "#ed7953"
             ],
             [
              0.7777777777777778,
              "#fb9f3a"
             ],
             [
              0.8888888888888888,
              "#fdca26"
             ],
             [
              1,
              "#f0f921"
             ]
            ],
            "type": "heatmapgl"
           }
          ],
          "histogram": [
           {
            "marker": {
             "pattern": {
              "fillmode": "overlay",
              "size": 10,
              "solidity": 0.2
             }
            },
            "type": "histogram"
           }
          ],
          "histogram2d": [
           {
            "colorbar": {
             "outlinewidth": 0,
             "ticks": ""
            },
            "colorscale": [
             [
              0,
              "#0d0887"
             ],
             [
              0.1111111111111111,
              "#46039f"
             ],
             [
              0.2222222222222222,
              "#7201a8"
             ],
             [
              0.3333333333333333,
              "#9c179e"
             ],
             [
              0.4444444444444444,
              "#bd3786"
             ],
             [
              0.5555555555555556,
              "#d8576b"
             ],
             [
              0.6666666666666666,
              "#ed7953"
             ],
             [
              0.7777777777777778,
              "#fb9f3a"
             ],
             [
              0.8888888888888888,
              "#fdca26"
             ],
             [
              1,
              "#f0f921"
             ]
            ],
            "type": "histogram2d"
           }
          ],
          "histogram2dcontour": [
           {
            "colorbar": {
             "outlinewidth": 0,
             "ticks": ""
            },
            "colorscale": [
             [
              0,
              "#0d0887"
             ],
             [
              0.1111111111111111,
              "#46039f"
             ],
             [
              0.2222222222222222,
              "#7201a8"
             ],
             [
              0.3333333333333333,
              "#9c179e"
             ],
             [
              0.4444444444444444,
              "#bd3786"
             ],
             [
              0.5555555555555556,
              "#d8576b"
             ],
             [
              0.6666666666666666,
              "#ed7953"
             ],
             [
              0.7777777777777778,
              "#fb9f3a"
             ],
             [
              0.8888888888888888,
              "#fdca26"
             ],
             [
              1,
              "#f0f921"
             ]
            ],
            "type": "histogram2dcontour"
           }
          ],
          "mesh3d": [
           {
            "colorbar": {
             "outlinewidth": 0,
             "ticks": ""
            },
            "type": "mesh3d"
           }
          ],
          "parcoords": [
           {
            "line": {
             "colorbar": {
              "outlinewidth": 0,
              "ticks": ""
             }
            },
            "type": "parcoords"
           }
          ],
          "pie": [
           {
            "automargin": true,
            "type": "pie"
           }
          ],
          "scatter": [
           {
            "marker": {
             "colorbar": {
              "outlinewidth": 0,
              "ticks": ""
             }
            },
            "type": "scatter"
           }
          ],
          "scatter3d": [
           {
            "line": {
             "colorbar": {
              "outlinewidth": 0,
              "ticks": ""
             }
            },
            "marker": {
             "colorbar": {
              "outlinewidth": 0,
              "ticks": ""
             }
            },
            "type": "scatter3d"
           }
          ],
          "scattercarpet": [
           {
            "marker": {
             "colorbar": {
              "outlinewidth": 0,
              "ticks": ""
             }
            },
            "type": "scattercarpet"
           }
          ],
          "scattergeo": [
           {
            "marker": {
             "colorbar": {
              "outlinewidth": 0,
              "ticks": ""
             }
            },
            "type": "scattergeo"
           }
          ],
          "scattergl": [
           {
            "marker": {
             "colorbar": {
              "outlinewidth": 0,
              "ticks": ""
             }
            },
            "type": "scattergl"
           }
          ],
          "scattermapbox": [
           {
            "marker": {
             "colorbar": {
              "outlinewidth": 0,
              "ticks": ""
             }
            },
            "type": "scattermapbox"
           }
          ],
          "scatterpolar": [
           {
            "marker": {
             "colorbar": {
              "outlinewidth": 0,
              "ticks": ""
             }
            },
            "type": "scatterpolar"
           }
          ],
          "scatterpolargl": [
           {
            "marker": {
             "colorbar": {
              "outlinewidth": 0,
              "ticks": ""
             }
            },
            "type": "scatterpolargl"
           }
          ],
          "scatterternary": [
           {
            "marker": {
             "colorbar": {
              "outlinewidth": 0,
              "ticks": ""
             }
            },
            "type": "scatterternary"
           }
          ],
          "surface": [
           {
            "colorbar": {
             "outlinewidth": 0,
             "ticks": ""
            },
            "colorscale": [
             [
              0,
              "#0d0887"
             ],
             [
              0.1111111111111111,
              "#46039f"
             ],
             [
              0.2222222222222222,
              "#7201a8"
             ],
             [
              0.3333333333333333,
              "#9c179e"
             ],
             [
              0.4444444444444444,
              "#bd3786"
             ],
             [
              0.5555555555555556,
              "#d8576b"
             ],
             [
              0.6666666666666666,
              "#ed7953"
             ],
             [
              0.7777777777777778,
              "#fb9f3a"
             ],
             [
              0.8888888888888888,
              "#fdca26"
             ],
             [
              1,
              "#f0f921"
             ]
            ],
            "type": "surface"
           }
          ],
          "table": [
           {
            "cells": {
             "fill": {
              "color": "#EBF0F8"
             },
             "line": {
              "color": "white"
             }
            },
            "header": {
             "fill": {
              "color": "#C8D4E3"
             },
             "line": {
              "color": "white"
             }
            },
            "type": "table"
           }
          ]
         },
         "layout": {
          "annotationdefaults": {
           "arrowcolor": "#2a3f5f",
           "arrowhead": 0,
           "arrowwidth": 1
          },
          "autotypenumbers": "strict",
          "coloraxis": {
           "colorbar": {
            "outlinewidth": 0,
            "ticks": ""
           }
          },
          "colorscale": {
           "diverging": [
            [
             0,
             "#8e0152"
            ],
            [
             0.1,
             "#c51b7d"
            ],
            [
             0.2,
             "#de77ae"
            ],
            [
             0.3,
             "#f1b6da"
            ],
            [
             0.4,
             "#fde0ef"
            ],
            [
             0.5,
             "#f7f7f7"
            ],
            [
             0.6,
             "#e6f5d0"
            ],
            [
             0.7,
             "#b8e186"
            ],
            [
             0.8,
             "#7fbc41"
            ],
            [
             0.9,
             "#4d9221"
            ],
            [
             1,
             "#276419"
            ]
           ],
           "sequential": [
            [
             0,
             "#0d0887"
            ],
            [
             0.1111111111111111,
             "#46039f"
            ],
            [
             0.2222222222222222,
             "#7201a8"
            ],
            [
             0.3333333333333333,
             "#9c179e"
            ],
            [
             0.4444444444444444,
             "#bd3786"
            ],
            [
             0.5555555555555556,
             "#d8576b"
            ],
            [
             0.6666666666666666,
             "#ed7953"
            ],
            [
             0.7777777777777778,
             "#fb9f3a"
            ],
            [
             0.8888888888888888,
             "#fdca26"
            ],
            [
             1,
             "#f0f921"
            ]
           ],
           "sequentialminus": [
            [
             0,
             "#0d0887"
            ],
            [
             0.1111111111111111,
             "#46039f"
            ],
            [
             0.2222222222222222,
             "#7201a8"
            ],
            [
             0.3333333333333333,
             "#9c179e"
            ],
            [
             0.4444444444444444,
             "#bd3786"
            ],
            [
             0.5555555555555556,
             "#d8576b"
            ],
            [
             0.6666666666666666,
             "#ed7953"
            ],
            [
             0.7777777777777778,
             "#fb9f3a"
            ],
            [
             0.8888888888888888,
             "#fdca26"
            ],
            [
             1,
             "#f0f921"
            ]
           ]
          },
          "colorway": [
           "#636efa",
           "#EF553B",
           "#00cc96",
           "#ab63fa",
           "#FFA15A",
           "#19d3f3",
           "#FF6692",
           "#B6E880",
           "#FF97FF",
           "#FECB52"
          ],
          "font": {
           "color": "#2a3f5f"
          },
          "geo": {
           "bgcolor": "white",
           "lakecolor": "white",
           "landcolor": "#E5ECF6",
           "showlakes": true,
           "showland": true,
           "subunitcolor": "white"
          },
          "hoverlabel": {
           "align": "left"
          },
          "hovermode": "closest",
          "mapbox": {
           "style": "light"
          },
          "paper_bgcolor": "white",
          "plot_bgcolor": "#E5ECF6",
          "polar": {
           "angularaxis": {
            "gridcolor": "white",
            "linecolor": "white",
            "ticks": ""
           },
           "bgcolor": "#E5ECF6",
           "radialaxis": {
            "gridcolor": "white",
            "linecolor": "white",
            "ticks": ""
           }
          },
          "scene": {
           "xaxis": {
            "backgroundcolor": "#E5ECF6",
            "gridcolor": "white",
            "gridwidth": 2,
            "linecolor": "white",
            "showbackground": true,
            "ticks": "",
            "zerolinecolor": "white"
           },
           "yaxis": {
            "backgroundcolor": "#E5ECF6",
            "gridcolor": "white",
            "gridwidth": 2,
            "linecolor": "white",
            "showbackground": true,
            "ticks": "",
            "zerolinecolor": "white"
           },
           "zaxis": {
            "backgroundcolor": "#E5ECF6",
            "gridcolor": "white",
            "gridwidth": 2,
            "linecolor": "white",
            "showbackground": true,
            "ticks": "",
            "zerolinecolor": "white"
           }
          },
          "shapedefaults": {
           "line": {
            "color": "#2a3f5f"
           }
          },
          "ternary": {
           "aaxis": {
            "gridcolor": "white",
            "linecolor": "white",
            "ticks": ""
           },
           "baxis": {
            "gridcolor": "white",
            "linecolor": "white",
            "ticks": ""
           },
           "bgcolor": "#E5ECF6",
           "caxis": {
            "gridcolor": "white",
            "linecolor": "white",
            "ticks": ""
           }
          },
          "title": {
           "x": 0.05
          },
          "xaxis": {
           "automargin": true,
           "gridcolor": "white",
           "linecolor": "white",
           "ticks": "",
           "title": {
            "standoff": 15
           },
           "zerolinecolor": "white",
           "zerolinewidth": 2
          },
          "yaxis": {
           "automargin": true,
           "gridcolor": "white",
           "linecolor": "white",
           "ticks": "",
           "title": {
            "standoff": 15
           },
           "zerolinecolor": "white",
           "zerolinewidth": 2
          }
         }
        },
        "title": {
         "text": "Error"
        },
        "xaxis": {
         "anchor": "y",
         "autorange": true,
         "domain": [
          0,
          1
         ],
         "range": [
          0,
          99
         ],
         "title": {
          "text": "Epoch"
         },
         "type": "linear"
        },
        "yaxis": {
         "anchor": "x",
         "autorange": true,
         "domain": [
          0,
          1
         ],
         "range": [
          0.1413853954937723,
          0.3922404009434912
         ],
         "title": {
          "text": "Root Mean Squared value"
         },
         "type": "linear"
        }
       }
      },
      "image/png": "[encoded data removed]"
     },
     "metadata": {},
     "output_type": "display_data"
    }
   ],
   "source": [
    "def train(batch_size:int, epochs:int, verbone: str=\"auto\", plot: bool=True):\n",
    "\n",
    "    model = WindForecaster.model\n",
    "    X = WindForecaster.train_X\n",
    "    Y = WindForecaster.train_Y\n",
    "    \n",
    "    training = model.fit(x=X, y=Y,batch_size=batch_size,epochs=epochs,verbose=\"auto\")\n",
    "    \n",
    "    if plot:\n",
    "        hist_df = pd.DataFrame(training.history)\n",
    "        hist_df = hist_df.rename(columns={'root_mean_squared_error': 'RMSE'})\n",
    "        fig = px.line(hist_df['RMSE'], title=\"Error\",labels={\"value\": \"Root Mean Squared value\",\"index\": \"Epoch\",\"variable\": \"Erro Metric\"})\n",
    "        fig.show()\n",
    "        \n",
    "    return model\n",
    "\n",
    "training = train(batch_size=4, epochs=100)"
   ]
  },
  {
   "cell_type": "markdown",
   "id": "e4d2e4dc-43b9-4def-8857-0f84f338d9ce",
   "metadata": {},
   "source": [
    "### Extending the WindForecaster class\n",
    "\n",
    "Now that a training function was created, the next step is to extend the Forecaster."
   ]
  },
  {
   "cell_type": "code",
   "execution_count": 1,
   "id": "bcaf95a2-8c1a-4446-b3fc-cad38d36633d",
   "metadata": {},
   "outputs": [
    {
     "name": "stderr",
     "output_type": "stream",
     "text": [
      "2021-07-08 01:49:25.658911: W tensorflow/stream_executor/platform/default/dso_loader.cc:64] Could not load dynamic library 'libcudart.so.11.0'; dlerror: libcudart.so.11.0: cannot open shared object file: No such file or directory\n",
      "2021-07-08 01:49:25.658925: I tensorflow/stream_executor/cuda/cudart_stub.cc:29] Ignore above cudart dlerror if you do not have a GPU set up on your machine.\n"
     ]
    }
   ],
   "source": [
    "import numpy as np\n",
    "import os\n",
    "import pandas as pd\n",
    "import plotly.express as px\n",
    "import tensorflow as tf\n",
    "\n",
    "from sklearn import preprocessing\n",
    "from sklearn.model_selection import TimeSeriesSplit\n",
    "from tensorflow.keras.models import Sequential\n",
    "from tensorflow.keras.layers import Dense, LSTM\n",
    "\n",
    "os.environ['TF_CPP_MIN_LOG_LEVEL'] = '3'  # or any {'0', '1', '2'}\n",
    "\n",
    "class WindForecaster:\n",
    "    def __init__(self, df:pd.DataFrame, test_size: int, prediction_window: int,\n",
    "                       forecast_delay: int, forecast_size: int, activation_function: str,\n",
    "                       loss_metric: str, optimizer: str):\n",
    "        \n",
    "        \n",
    "        self.dataset = self.__normalize(self.__reshape(df))\n",
    "        self.train_set, self.test_set = self.__split(test_size)\n",
    "        \n",
    "        self.train_X, self.train_Y = self.__createTimeWindows(\n",
    "            dataset=self.train_set['normalized'].values,\n",
    "            prediction_window=prediction_window,\n",
    "            forecast_delay=forecast_delay)\n",
    "        \n",
    "        self.test_X, self.test_Y = self.__createTimeWindows(\n",
    "            dataset=self.test_set['normalized'].values,\n",
    "            prediction_window=prediction_window,\n",
    "            forecast_delay=forecast_delay)\n",
    "        \n",
    "        self.model = self.__init_model(prediction_window=prediction_window, forecast_size=forecast_size,\n",
    "                                       activation_function=activation_function, loss_metric=loss_metric,\n",
    "                                       optimizer=optimizer)\n",
    "        \n",
    "    def __reshape(self, df) -> pd.DataFrame:\n",
    "        \"\"\"Reshapes the provided Dataset into a single feature dataset\n",
    "        \"\"\"\n",
    "        df = df.T.stack().to_frame()\n",
    "        df.index = ['2021-01-{:02d} {:02d}:00'.format(int(i), j) for i, j in df.index]\n",
    "        df = df.rename(columns={0: 'speed'})\n",
    "\n",
    "        return df\n",
    "    \n",
    "    def __normalize(self, df) -> pd.DataFrame:\n",
    "        \"\"\"Wind Speed normalization\n",
    "        \"\"\"\n",
    "        indexes = df.index\n",
    "        values = df.values\n",
    "        scaler = preprocessing.MinMaxScaler(feature_range=(0, 1))\n",
    "        scaled_values = scaler.fit_transform(values)\n",
    "        df['normalized'] = scaled_values\n",
    "\n",
    "        return df\n",
    "\n",
    "    def __split(self, test_size:int):\n",
    "        \"\"\"Splits the dataset for training and testing\n",
    "        \"\"\"\n",
    "        tscv = TimeSeriesSplit(n_splits=2, test_size=test_size)\n",
    "        for train_index, test_index in tscv.split(self.dataset):\n",
    "            train, test = self.dataset.iloc[train_index], self.dataset.iloc[test_index]\n",
    "\n",
    "        return train, test\n",
    "    \n",
    "    def __createTimeWindows(self,dataset, prediction_window: int, forecast_delay: int) -> (np.array, np.array):\n",
    "        \"\"\"Creates time windows, which could be used for prediction or testing\n",
    "        \"\"\"\n",
    "        X, Y = [], []\n",
    "        for i in range(0, dataset.shape[0] - prediction_window - 1):\n",
    "            X.append(dataset[i:(i + prediction_window)])\n",
    "            Y.append(dataset[i + prediction_window + forecast_delay - 1])\n",
    "\n",
    "        X,Y = np.array(X), np.array(Y)\n",
    "        return np.reshape(X, (X.shape[0], 1, X.shape[-1])), Y\n",
    "    \n",
    "    def __init_model(self, prediction_window: int, forecast_size: int,\n",
    "                     activation_function: str, loss_metric: str, optimizer: str):\n",
    "    \n",
    "        units = int((prediction_window * 0.67) + (forecast_size * 0.33))\n",
    "        input_shape = (1, prediction_window)\n",
    "\n",
    "        model = Sequential()\n",
    "        tf.keras.optimizers.Adam(learning_rate=1e-5, beta_1=0.9, beta_2=0.999,\n",
    "                                     epsilon=1e-07, amsgrad=False, name=\"adam\")\n",
    "        model.add(LSTM(units=units, input_shape=input_shape))\n",
    "        model.add(Dense(1, activation=activation_function))\n",
    "\n",
    "        metrics = tf.keras.metrics.RootMeanSquaredError()\n",
    "\n",
    "        model.compile(\n",
    "            loss=loss_metric,\n",
    "            metrics=[metrics],\n",
    "            optimizer=optimizer)\n",
    "\n",
    "        print(\"Model is ready to be trained.\")\n",
    "        return model\n",
    "    \n",
    "    def train(self, batch_size:int, epochs:int, verbose: str=\"auto\", plot: bool=True):\n",
    "\n",
    "        training = self.model.fit(x=self.train_X, y=self.train_Y,batch_size=batch_size,epochs=epochs,verbose=verbose)\n",
    "\n",
    "        if plot:\n",
    "            hist_df = pd.DataFrame(training.history)\n",
    "            hist_df = hist_df.rename(columns={'root_mean_squared_error': 'RMSE'})\n",
    "            fig = px.line(hist_df['RMSE'], title=\"Error accros training\",labels={\"value\": \"Root Mean Squared value\",\"index\": \"Epoch\",\"variable\": \"Erro Metric\"})\n",
    "            fig.show()\n",
    "            \n",
    "        return training\n",
    "    \n",
    "    def __repr__(self):\n",
    "        \n",
    "        self.model.summary()\n",
    "        return \"\""
   ]
  },
  {
   "cell_type": "code",
   "execution_count": 2,
   "id": "b37b06b4-66a1-4a5a-9380-70d03ccb04c1",
   "metadata": {
    "scrolled": true,
    "tags": []
   },
   "outputs": [
    {
     "name": "stderr",
     "output_type": "stream",
     "text": [
      "2021-07-08 01:49:26.718249: W tensorflow/stream_executor/platform/default/dso_loader.cc:64] Could not load dynamic library 'libcuda.so.1'; dlerror: libcuda.so.1: cannot open shared object file: No such file or directory\n",
      "2021-07-08 01:49:26.718316: W tensorflow/stream_executor/cuda/cuda_driver.cc:326] failed call to cuInit: UNKNOWN ERROR (303)\n",
      "2021-07-08 01:49:26.718352: I tensorflow/stream_executor/cuda/cuda_diagnostics.cc:156] kernel driver does not appear to be running on this host (HM01): /proc/driver/nvidia/version does not exist\n",
      "2021-07-08 01:49:26.718589: I tensorflow/core/platform/cpu_feature_guard.cc:142] This TensorFlow binary is optimized with oneAPI Deep Neural Network Library (oneDNN) to use the following CPU instructions in performance-critical operations:  AVX2 FMA\n",
      "To enable them in other operations, rebuild TensorFlow with the appropriate compiler flags.\n"
     ]
    },
    {
     "name": "stdout",
     "output_type": "stream",
     "text": [
      "Model is ready to be trained.\n",
      "Epoch 1/100\n"
     ]
    },
    {
     "name": "stderr",
     "output_type": "stream",
     "text": [
      "2021-07-08 01:49:26.928754: I tensorflow/compiler/mlir/mlir_graph_optimization_pass.cc:176] None of the MLIR Optimization Passes are enabled (registered 2)\n",
      "2021-07-08 01:49:26.944614: I tensorflow/core/platform/profile_utils/cpu_utils.cc:114] CPU Frequency: 2000800000 Hz\n"
     ]
    },
    {
     "name": "stdout",
     "output_type": "stream",
     "text": [
      "131/131 [==============================] - 1s 956us/step - loss: 0.0733 - root_mean_squared_error: 0.2708\n",
      "Epoch 2/100\n",
      "131/131 [==============================] - 0s 1ms/step - loss: 0.0262 - root_mean_squared_error: 0.1617\n",
      "Epoch 3/100\n",
      "131/131 [==============================] - 0s 1ms/step - loss: 0.0250 - root_mean_squared_error: 0.1582\n",
      "Epoch 4/100\n",
      "131/131 [==============================] - 0s 1ms/step - loss: 0.0250 - root_mean_squared_error: 0.1582\n",
      "Epoch 5/100\n",
      "131/131 [==============================] - 0s 921us/step - loss: 0.0249 - root_mean_squared_error: 0.1579\n",
      "Epoch 6/100\n",
      "131/131 [==============================] - 0s 946us/step - loss: 0.0249 - root_mean_squared_error: 0.1577\n",
      "Epoch 7/100\n",
      "131/131 [==============================] - 0s 904us/step - loss: 0.0248 - root_mean_squared_error: 0.1576\n",
      "Epoch 8/100\n",
      "131/131 [==============================] - 0s 1ms/step - loss: 0.0248 - root_mean_squared_error: 0.1576\n",
      "Epoch 9/100\n",
      "131/131 [==============================] - 0s 923us/step - loss: 0.0246 - root_mean_squared_error: 0.1569\n",
      "Epoch 10/100\n",
      "131/131 [==============================] - 0s 1ms/step - loss: 0.0247 - root_mean_squared_error: 0.1570\n",
      "Epoch 11/100\n",
      "131/131 [==============================] - 0s 1ms/step - loss: 0.0246 - root_mean_squared_error: 0.1569\n",
      "Epoch 12/100\n",
      "131/131 [==============================] - 0s 928us/step - loss: 0.0246 - root_mean_squared_error: 0.1567\n",
      "Epoch 13/100\n",
      "131/131 [==============================] - 0s 923us/step - loss: 0.0245 - root_mean_squared_error: 0.1564\n",
      "Epoch 14/100\n",
      "131/131 [==============================] - 0s 1ms/step - loss: 0.0244 - root_mean_squared_error: 0.1562\n",
      "Epoch 15/100\n",
      "131/131 [==============================] - 0s 1ms/step - loss: 0.0244 - root_mean_squared_error: 0.1560\n",
      "Epoch 16/100\n",
      "131/131 [==============================] - 0s 1ms/step - loss: 0.0245 - root_mean_squared_error: 0.1564\n",
      "Epoch 17/100\n",
      "131/131 [==============================] - 0s 929us/step - loss: 0.0243 - root_mean_squared_error: 0.1560\n",
      "Epoch 18/100\n",
      "131/131 [==============================] - 0s 1ms/step - loss: 0.0244 - root_mean_squared_error: 0.1562\n",
      "Epoch 19/100\n",
      "131/131 [==============================] - 0s 1ms/step - loss: 0.0243 - root_mean_squared_error: 0.1558\n",
      "Epoch 20/100\n",
      "131/131 [==============================] - 0s 1ms/step - loss: 0.0243 - root_mean_squared_error: 0.1560\n",
      "Epoch 21/100\n",
      "131/131 [==============================] - 0s 927us/step - loss: 0.0242 - root_mean_squared_error: 0.1555\n",
      "Epoch 22/100\n",
      "131/131 [==============================] - 0s 936us/step - loss: 0.0243 - root_mean_squared_error: 0.1559\n",
      "Epoch 23/100\n",
      "131/131 [==============================] - 0s 955us/step - loss: 0.0243 - root_mean_squared_error: 0.1559\n",
      "Epoch 24/100\n",
      "131/131 [==============================] - 0s 932us/step - loss: 0.0243 - root_mean_squared_error: 0.1559\n",
      "Epoch 25/100\n",
      "131/131 [==============================] - 0s 921us/step - loss: 0.0242 - root_mean_squared_error: 0.1557\n",
      "Epoch 26/100\n",
      "131/131 [==============================] - 0s 956us/step - loss: 0.0241 - root_mean_squared_error: 0.1553\n",
      "Epoch 27/100\n",
      "131/131 [==============================] - 0s 964us/step - loss: 0.0242 - root_mean_squared_error: 0.1555\n",
      "Epoch 28/100\n",
      "131/131 [==============================] - 0s 1ms/step - loss: 0.0241 - root_mean_squared_error: 0.1552\n",
      "Epoch 29/100\n",
      "131/131 [==============================] - 0s 885us/step - loss: 0.0241 - root_mean_squared_error: 0.1554\n",
      "Epoch 30/100\n",
      "131/131 [==============================] - 0s 1ms/step - loss: 0.0242 - root_mean_squared_error: 0.1555\n",
      "Epoch 31/100\n",
      "131/131 [==============================] - 0s 1ms/step - loss: 0.0241 - root_mean_squared_error: 0.1552\n",
      "Epoch 32/100\n",
      "131/131 [==============================] - 0s 1ms/step - loss: 0.0240 - root_mean_squared_error: 0.1550\n",
      "Epoch 33/100\n",
      "131/131 [==============================] - 0s 980us/step - loss: 0.0242 - root_mean_squared_error: 0.1555\n",
      "Epoch 34/100\n",
      "131/131 [==============================] - 0s 856us/step - loss: 0.0240 - root_mean_squared_error: 0.1549\n",
      "Epoch 35/100\n",
      "131/131 [==============================] - 0s 1ms/step - loss: 0.0241 - root_mean_squared_error: 0.1553\n",
      "Epoch 36/100\n",
      "131/131 [==============================] - 0s 1ms/step - loss: 0.0240 - root_mean_squared_error: 0.1550\n",
      "Epoch 37/100\n",
      "131/131 [==============================] - 0s 857us/step - loss: 0.0240 - root_mean_squared_error: 0.1550\n",
      "Epoch 38/100\n",
      "131/131 [==============================] - 0s 1ms/step - loss: 0.0239 - root_mean_squared_error: 0.1547\n",
      "Epoch 39/100\n",
      "131/131 [==============================] - 0s 962us/step - loss: 0.0241 - root_mean_squared_error: 0.1551\n",
      "Epoch 40/100\n",
      "131/131 [==============================] - 0s 961us/step - loss: 0.0240 - root_mean_squared_error: 0.1548\n",
      "Epoch 41/100\n",
      "131/131 [==============================] - 0s 939us/step - loss: 0.0240 - root_mean_squared_error: 0.1549\n",
      "Epoch 42/100\n",
      "131/131 [==============================] - 0s 928us/step - loss: 0.0240 - root_mean_squared_error: 0.1548\n",
      "Epoch 43/100\n",
      "131/131 [==============================] - 0s 910us/step - loss: 0.0241 - root_mean_squared_error: 0.1552\n",
      "Epoch 44/100\n",
      "131/131 [==============================] - 0s 874us/step - loss: 0.0239 - root_mean_squared_error: 0.1547\n",
      "Epoch 45/100\n",
      "131/131 [==============================] - 0s 1ms/step - loss: 0.0240 - root_mean_squared_error: 0.1549\n",
      "Epoch 46/100\n",
      "131/131 [==============================] - 0s 919us/step - loss: 0.0240 - root_mean_squared_error: 0.1548\n",
      "Epoch 47/100\n",
      "131/131 [==============================] - 0s 929us/step - loss: 0.0241 - root_mean_squared_error: 0.1552\n",
      "Epoch 48/100\n",
      "131/131 [==============================] - 0s 905us/step - loss: 0.0239 - root_mean_squared_error: 0.1545\n",
      "Epoch 49/100\n",
      "131/131 [==============================] - 0s 1ms/step - loss: 0.0239 - root_mean_squared_error: 0.1545\n",
      "Epoch 50/100\n",
      "131/131 [==============================] - 0s 882us/step - loss: 0.0239 - root_mean_squared_error: 0.1546\n",
      "Epoch 51/100\n",
      "131/131 [==============================] - 0s 851us/step - loss: 0.0239 - root_mean_squared_error: 0.1545\n",
      "Epoch 52/100\n",
      "131/131 [==============================] - 0s 816us/step - loss: 0.0238 - root_mean_squared_error: 0.1544\n",
      "Epoch 53/100\n",
      "131/131 [==============================] - 0s 1ms/step - loss: 0.0239 - root_mean_squared_error: 0.1547\n",
      "Epoch 54/100\n",
      "131/131 [==============================] - 0s 960us/step - loss: 0.0240 - root_mean_squared_error: 0.1549\n",
      "Epoch 55/100\n",
      "131/131 [==============================] - 0s 1ms/step - loss: 0.0239 - root_mean_squared_error: 0.1547\n",
      "Epoch 56/100\n",
      "131/131 [==============================] - 0s 1ms/step - loss: 0.0239 - root_mean_squared_error: 0.1545\n",
      "Epoch 57/100\n",
      "131/131 [==============================] - 0s 999us/step - loss: 0.0240 - root_mean_squared_error: 0.1550\n",
      "Epoch 58/100\n",
      "131/131 [==============================] - 0s 966us/step - loss: 0.0238 - root_mean_squared_error: 0.1544\n",
      "Epoch 59/100\n",
      "131/131 [==============================] - 0s 883us/step - loss: 0.0239 - root_mean_squared_error: 0.1548\n",
      "Epoch 60/100\n",
      "131/131 [==============================] - 0s 938us/step - loss: 0.0238 - root_mean_squared_error: 0.1544\n",
      "Epoch 61/100\n",
      "131/131 [==============================] - 0s 883us/step - loss: 0.0238 - root_mean_squared_error: 0.1543\n",
      "Epoch 62/100\n",
      "131/131 [==============================] - 0s 1ms/step - loss: 0.0239 - root_mean_squared_error: 0.1547\n",
      "Epoch 63/100\n",
      "131/131 [==============================] - 0s 974us/step - loss: 0.0238 - root_mean_squared_error: 0.1544\n",
      "Epoch 64/100\n",
      "131/131 [==============================] - 0s 951us/step - loss: 0.0239 - root_mean_squared_error: 0.1545\n",
      "Epoch 65/100\n",
      "131/131 [==============================] - 0s 1ms/step - loss: 0.0239 - root_mean_squared_error: 0.1545\n",
      "Epoch 66/100\n",
      "131/131 [==============================] - 0s 1ms/step - loss: 0.0238 - root_mean_squared_error: 0.1544\n",
      "Epoch 67/100\n",
      "131/131 [==============================] - 0s 1ms/step - loss: 0.0240 - root_mean_squared_error: 0.1548\n",
      "Epoch 68/100\n",
      "131/131 [==============================] - 0s 928us/step - loss: 0.0238 - root_mean_squared_error: 0.1543\n",
      "Epoch 69/100\n",
      "131/131 [==============================] - 0s 977us/step - loss: 0.0238 - root_mean_squared_error: 0.1543\n",
      "Epoch 70/100\n",
      "131/131 [==============================] - 0s 1ms/step - loss: 0.0239 - root_mean_squared_error: 0.1546\n",
      "Epoch 71/100\n",
      "131/131 [==============================] - 0s 1ms/step - loss: 0.0239 - root_mean_squared_error: 0.1547\n",
      "Epoch 72/100\n",
      "131/131 [==============================] - 0s 949us/step - loss: 0.0239 - root_mean_squared_error: 0.1546\n",
      "Epoch 73/100\n",
      "131/131 [==============================] - 0s 917us/step - loss: 0.0239 - root_mean_squared_error: 0.1546\n",
      "Epoch 74/100\n",
      "131/131 [==============================] - 0s 909us/step - loss: 0.0238 - root_mean_squared_error: 0.1541\n",
      "Epoch 75/100\n",
      "131/131 [==============================] - 0s 982us/step - loss: 0.0241 - root_mean_squared_error: 0.1551\n",
      "Epoch 76/100\n",
      "131/131 [==============================] - 0s 920us/step - loss: 0.0239 - root_mean_squared_error: 0.1545\n",
      "Epoch 77/100\n",
      "131/131 [==============================] - 0s 962us/step - loss: 0.0237 - root_mean_squared_error: 0.1540\n",
      "Epoch 78/100\n",
      "131/131 [==============================] - 0s 963us/step - loss: 0.0238 - root_mean_squared_error: 0.1543\n",
      "Epoch 79/100\n",
      "131/131 [==============================] - 0s 949us/step - loss: 0.0238 - root_mean_squared_error: 0.1544\n",
      "Epoch 80/100\n",
      "131/131 [==============================] - 0s 1ms/step - loss: 0.0239 - root_mean_squared_error: 0.1544\n",
      "Epoch 81/100\n",
      "131/131 [==============================] - 0s 907us/step - loss: 0.0238 - root_mean_squared_error: 0.1543\n",
      "Epoch 82/100\n",
      "131/131 [==============================] - 0s 972us/step - loss: 0.0239 - root_mean_squared_error: 0.1548\n",
      "Epoch 83/100\n",
      "131/131 [==============================] - 0s 1ms/step - loss: 0.0239 - root_mean_squared_error: 0.1545\n",
      "Epoch 84/100\n",
      "131/131 [==============================] - 0s 940us/step - loss: 0.0238 - root_mean_squared_error: 0.1541\n",
      "Epoch 85/100\n",
      "131/131 [==============================] - 0s 985us/step - loss: 0.0238 - root_mean_squared_error: 0.1542\n",
      "Epoch 86/100\n",
      "131/131 [==============================] - 0s 1ms/step - loss: 0.0238 - root_mean_squared_error: 0.1544\n",
      "Epoch 87/100\n",
      "131/131 [==============================] - 0s 1ms/step - loss: 0.0238 - root_mean_squared_error: 0.1544\n",
      "Epoch 88/100\n",
      "131/131 [==============================] - 0s 1ms/step - loss: 0.0239 - root_mean_squared_error: 0.1545\n",
      "Epoch 89/100\n",
      "131/131 [==============================] - 0s 1ms/step - loss: 0.0238 - root_mean_squared_error: 0.1542\n",
      "Epoch 90/100\n",
      "131/131 [==============================] - 0s 1ms/step - loss: 0.0238 - root_mean_squared_error: 0.1542\n",
      "Epoch 91/100\n",
      "131/131 [==============================] - 0s 1ms/step - loss: 0.0239 - root_mean_squared_error: 0.1545\n",
      "Epoch 92/100\n",
      "131/131 [==============================] - 0s 1ms/step - loss: 0.0239 - root_mean_squared_error: 0.1545\n",
      "Epoch 93/100\n",
      "131/131 [==============================] - 0s 1ms/step - loss: 0.0238 - root_mean_squared_error: 0.1543\n",
      "Epoch 94/100\n",
      "131/131 [==============================] - 0s 1ms/step - loss: 0.0238 - root_mean_squared_error: 0.1542\n",
      "Epoch 95/100\n",
      "131/131 [==============================] - 0s 1ms/step - loss: 0.0237 - root_mean_squared_error: 0.1539\n",
      "Epoch 96/100\n",
      "131/131 [==============================] - 0s 1ms/step - loss: 0.0239 - root_mean_squared_error: 0.1548\n",
      "Epoch 97/100\n",
      "131/131 [==============================] - 0s 978us/step - loss: 0.0237 - root_mean_squared_error: 0.1540\n",
      "Epoch 98/100\n",
      "131/131 [==============================] - 0s 1ms/step - loss: 0.0239 - root_mean_squared_error: 0.1545\n",
      "Epoch 99/100\n",
      "131/131 [==============================] - 0s 1ms/step - loss: 0.0238 - root_mean_squared_error: 0.1543\n",
      "Epoch 100/100\n",
      "131/131 [==============================] - 0s 1ms/step - loss: 0.0239 - root_mean_squared_error: 0.1545\n"
     ]
    },
    {
     "data": {
      "application/vnd.plotly.v1+json": {
       "config": {
        "plotlyServerURL": "https://plot.ly"
       },
       "data": [
        {
         "hovertemplate": "Erro Metric=RMSE<br>Epoch=%{x}<br>Root Mean Squared value=%{y}<extra></extra>",
         "legendgroup": "RMSE",
         "line": {
          "color": "#636efa",
          "dash": "solid"
         },
         "mode": "lines",
         "name": "RMSE",
         "orientation": "v",
         "showlegend": true,
         "type": "scatter",
         "x": [
          0,
          1,
          2,
          3,
          4,
          5,
          6,
          7,
          8,
          9,
          10,
          11,
          12,
          13,
          14,
          15,
          16,
          17,
          18,
          19,
          20,
          21,
          22,
          23,
          24,
          25,
          26,
          27,
          28,
          29,
          30,
          31,
          32,
          33,
          34,
          35,
          36,
          37,
          38,
          39,
          40,
          41,
          42,
          43,
          44,
          45,
          46,
          47,
          48,
          49,
          50,
          51,
          52,
          53,
          54,
          55,
          56,
          57,
          58,
          59,
          60,
          61,
          62,
          63,
          64,
          65,
          66,
          67,
          68,
          69,
          70,
          71,
          72,
          73,
          74,
          75,
          76,
          77,
          78,
          79,
          80,
          81,
          82,
          83,
          84,
          85,
          86,
          87,
          88,
          89,
          90,
          91,
          92,
          93,
          94,
          95,
          96,
          97,
          98,
          99
         ],
         "xaxis": "x",
         "y": [
          0.270828515291214,
          0.16171258687973022,
          0.15824131667613983,
          0.15817129611968994,
          0.1578882932662964,
          0.1576741486787796,
          0.15762855112552643,
          0.15761873126029968,
          0.1568755805492401,
          0.1570175290107727,
          0.1568535566329956,
          0.1567074954509735,
          0.15640829503536224,
          0.15616349875926971,
          0.1560463160276413,
          0.15642641484737396,
          0.156007781624794,
          0.15624064207077026,
          0.15575022995471954,
          0.15601789951324463,
          0.1555139124393463,
          0.155854269862175,
          0.15589147806167603,
          0.15590010583400726,
          0.15568123757839203,
          0.1553483009338379,
          0.15547440946102142,
          0.15515866875648499,
          0.15537099540233612,
          0.15552645921707153,
          0.15521590411663055,
          0.15500926971435547,
          0.1555391401052475,
          0.15489448606967926,
          0.15533514320850372,
          0.15501496195793152,
          0.1549619436264038,
          0.15471218526363373,
          0.15514351427555084,
          0.15479569137096405,
          0.15490956604480743,
          0.15479151904582977,
          0.15519282221794128,
          0.1546698957681656,
          0.1549193561077118,
          0.1547883152961731,
          0.1551688313484192,
          0.15447001159191132,
          0.1545230746269226,
          0.1545921117067337,
          0.1544845849275589,
          0.1543901562690735,
          0.15465664863586426,
          0.15492214262485504,
          0.1547146439552307,
          0.1545267552137375,
          0.1549932062625885,
          0.15439502894878387,
          0.15475784242153168,
          0.15443314611911774,
          0.15429630875587463,
          0.15473979711532593,
          0.15435771644115448,
          0.154536634683609,
          0.1545342355966568,
          0.15442536771297455,
          0.15479867160320282,
          0.1542753130197525,
          0.15428081154823303,
          0.15456829965114594,
          0.15470299124717712,
          0.15458999574184418,
          0.15455079078674316,
          0.15411972999572754,
          0.15510307252407074,
          0.15451118350028992,
          0.15402908623218536,
          0.1543157398700714,
          0.1543586701154709,
          0.15443798899650574,
          0.15425832569599152,
          0.15475408732891083,
          0.15452446043491364,
          0.15411807596683502,
          0.1542447805404663,
          0.15442052483558655,
          0.15443271398544312,
          0.15448208153247833,
          0.1541605144739151,
          0.15415391325950623,
          0.1544535905122757,
          0.15447935461997986,
          0.15425164997577667,
          0.1542339026927948,
          0.15394550561904907,
          0.1547500193119049,
          0.1540261209011078,
          0.15452437102794647,
          0.15430209040641785,
          0.15453419089317322
         ],
         "yaxis": "y"
        }
       ],
       "layout": {
        "autosize": true,
        "legend": {
         "title": {
          "text": "Erro Metric"
         },
         "tracegroupgap": 0
        },
        "template": {
         "data": {
          "bar": [
           {
            "error_x": {
             "color": "#2a3f5f"
            },
            "error_y": {
             "color": "#2a3f5f"
            },
            "marker": {
             "line": {
              "color": "#E5ECF6",
              "width": 0.5
             },
             "pattern": {
              "fillmode": "overlay",
              "size": 10,
              "solidity": 0.2
             }
            },
            "type": "bar"
           }
          ],
          "barpolar": [
           {
            "marker": {
             "line": {
              "color": "#E5ECF6",
              "width": 0.5
             },
             "pattern": {
              "fillmode": "overlay",
              "size": 10,
              "solidity": 0.2
             }
            },
            "type": "barpolar"
           }
          ],
          "carpet": [
           {
            "aaxis": {
             "endlinecolor": "#2a3f5f",
             "gridcolor": "white",
             "linecolor": "white",
             "minorgridcolor": "white",
             "startlinecolor": "#2a3f5f"
            },
            "baxis": {
             "endlinecolor": "#2a3f5f",
             "gridcolor": "white",
             "linecolor": "white",
             "minorgridcolor": "white",
             "startlinecolor": "#2a3f5f"
            },
            "type": "carpet"
           }
          ],
          "choropleth": [
           {
            "colorbar": {
             "outlinewidth": 0,
             "ticks": ""
            },
            "type": "choropleth"
           }
          ],
          "contour": [
           {
            "colorbar": {
             "outlinewidth": 0,
             "ticks": ""
            },
            "colorscale": [
             [
              0,
              "#0d0887"
             ],
             [
              0.1111111111111111,
              "#46039f"
             ],
             [
              0.2222222222222222,
              "#7201a8"
             ],
             [
              0.3333333333333333,
              "#9c179e"
             ],
             [
              0.4444444444444444,
              "#bd3786"
             ],
             [
              0.5555555555555556,
              "#d8576b"
             ],
             [
              0.6666666666666666,
              "#ed7953"
             ],
             [
              0.7777777777777778,
              "#fb9f3a"
             ],
             [
              0.8888888888888888,
              "#fdca26"
             ],
             [
              1,
              "#f0f921"
             ]
            ],
            "type": "contour"
           }
          ],
          "contourcarpet": [
           {
            "colorbar": {
             "outlinewidth": 0,
             "ticks": ""
            },
            "type": "contourcarpet"
           }
          ],
          "heatmap": [
           {
            "colorbar": {
             "outlinewidth": 0,
             "ticks": ""
            },
            "colorscale": [
             [
              0,
              "#0d0887"
             ],
             [
              0.1111111111111111,
              "#46039f"
             ],
             [
              0.2222222222222222,
              "#7201a8"
             ],
             [
              0.3333333333333333,
              "#9c179e"
             ],
             [
              0.4444444444444444,
              "#bd3786"
             ],
             [
              0.5555555555555556,
              "#d8576b"
             ],
             [
              0.6666666666666666,
              "#ed7953"
             ],
             [
              0.7777777777777778,
              "#fb9f3a"
             ],
             [
              0.8888888888888888,
              "#fdca26"
             ],
             [
              1,
              "#f0f921"
             ]
            ],
            "type": "heatmap"
           }
          ],
          "heatmapgl": [
           {
            "colorbar": {
             "outlinewidth": 0,
             "ticks": ""
            },
            "colorscale": [
             [
              0,
              "#0d0887"
             ],
             [
              0.1111111111111111,
              "#46039f"
             ],
             [
              0.2222222222222222,
              "#7201a8"
             ],
             [
              0.3333333333333333,
              "#9c179e"
             ],
             [
              0.4444444444444444,
              "#bd3786"
             ],
             [
              0.5555555555555556,
              "#d8576b"
             ],
             [
              0.6666666666666666,
              "#ed7953"
             ],
             [
              0.7777777777777778,
              "#fb9f3a"
             ],
             [
              0.8888888888888888,
              "#fdca26"
             ],
             [
              1,
              "#f0f921"
             ]
            ],
            "type": "heatmapgl"
           }
          ],
          "histogram": [
           {
            "marker": {
             "pattern": {
              "fillmode": "overlay",
              "size": 10,
              "solidity": 0.2
             }
            },
            "type": "histogram"
           }
          ],
          "histogram2d": [
           {
            "colorbar": {
             "outlinewidth": 0,
             "ticks": ""
            },
            "colorscale": [
             [
              0,
              "#0d0887"
             ],
             [
              0.1111111111111111,
              "#46039f"
             ],
             [
              0.2222222222222222,
              "#7201a8"
             ],
             [
              0.3333333333333333,
              "#9c179e"
             ],
             [
              0.4444444444444444,
              "#bd3786"
             ],
             [
              0.5555555555555556,
              "#d8576b"
             ],
             [
              0.6666666666666666,
              "#ed7953"
             ],
             [
              0.7777777777777778,
              "#fb9f3a"
             ],
             [
              0.8888888888888888,
              "#fdca26"
             ],
             [
              1,
              "#f0f921"
             ]
            ],
            "type": "histogram2d"
           }
          ],
          "histogram2dcontour": [
           {
            "colorbar": {
             "outlinewidth": 0,
             "ticks": ""
            },
            "colorscale": [
             [
              0,
              "#0d0887"
             ],
             [
              0.1111111111111111,
              "#46039f"
             ],
             [
              0.2222222222222222,
              "#7201a8"
             ],
             [
              0.3333333333333333,
              "#9c179e"
             ],
             [
              0.4444444444444444,
              "#bd3786"
             ],
             [
              0.5555555555555556,
              "#d8576b"
             ],
             [
              0.6666666666666666,
              "#ed7953"
             ],
             [
              0.7777777777777778,
              "#fb9f3a"
             ],
             [
              0.8888888888888888,
              "#fdca26"
             ],
             [
              1,
              "#f0f921"
             ]
            ],
            "type": "histogram2dcontour"
           }
          ],
          "mesh3d": [
           {
            "colorbar": {
             "outlinewidth": 0,
             "ticks": ""
            },
            "type": "mesh3d"
           }
          ],
          "parcoords": [
           {
            "line": {
             "colorbar": {
              "outlinewidth": 0,
              "ticks": ""
             }
            },
            "type": "parcoords"
           }
          ],
          "pie": [
           {
            "automargin": true,
            "type": "pie"
           }
          ],
          "scatter": [
           {
            "marker": {
             "colorbar": {
              "outlinewidth": 0,
              "ticks": ""
             }
            },
            "type": "scatter"
           }
          ],
          "scatter3d": [
           {
            "line": {
             "colorbar": {
              "outlinewidth": 0,
              "ticks": ""
             }
            },
            "marker": {
             "colorbar": {
              "outlinewidth": 0,
              "ticks": ""
             }
            },
            "type": "scatter3d"
           }
          ],
          "scattercarpet": [
           {
            "marker": {
             "colorbar": {
              "outlinewidth": 0,
              "ticks": ""
             }
            },
            "type": "scattercarpet"
           }
          ],
          "scattergeo": [
           {
            "marker": {
             "colorbar": {
              "outlinewidth": 0,
              "ticks": ""
             }
            },
            "type": "scattergeo"
           }
          ],
          "scattergl": [
           {
            "marker": {
             "colorbar": {
              "outlinewidth": 0,
              "ticks": ""
             }
            },
            "type": "scattergl"
           }
          ],
          "scattermapbox": [
           {
            "marker": {
             "colorbar": {
              "outlinewidth": 0,
              "ticks": ""
             }
            },
            "type": "scattermapbox"
           }
          ],
          "scatterpolar": [
           {
            "marker": {
             "colorbar": {
              "outlinewidth": 0,
              "ticks": ""
             }
            },
            "type": "scatterpolar"
           }
          ],
          "scatterpolargl": [
           {
            "marker": {
             "colorbar": {
              "outlinewidth": 0,
              "ticks": ""
             }
            },
            "type": "scatterpolargl"
           }
          ],
          "scatterternary": [
           {
            "marker": {
             "colorbar": {
              "outlinewidth": 0,
              "ticks": ""
             }
            },
            "type": "scatterternary"
           }
          ],
          "surface": [
           {
            "colorbar": {
             "outlinewidth": 0,
             "ticks": ""
            },
            "colorscale": [
             [
              0,
              "#0d0887"
             ],
             [
              0.1111111111111111,
              "#46039f"
             ],
             [
              0.2222222222222222,
              "#7201a8"
             ],
             [
              0.3333333333333333,
              "#9c179e"
             ],
             [
              0.4444444444444444,
              "#bd3786"
             ],
             [
              0.5555555555555556,
              "#d8576b"
             ],
             [
              0.6666666666666666,
              "#ed7953"
             ],
             [
              0.7777777777777778,
              "#fb9f3a"
             ],
             [
              0.8888888888888888,
              "#fdca26"
             ],
             [
              1,
              "#f0f921"
             ]
            ],
            "type": "surface"
           }
          ],
          "table": [
           {
            "cells": {
             "fill": {
              "color": "#EBF0F8"
             },
             "line": {
              "color": "white"
             }
            },
            "header": {
             "fill": {
              "color": "#C8D4E3"
             },
             "line": {
              "color": "white"
             }
            },
            "type": "table"
           }
          ]
         },
         "layout": {
          "annotationdefaults": {
           "arrowcolor": "#2a3f5f",
           "arrowhead": 0,
           "arrowwidth": 1
          },
          "autotypenumbers": "strict",
          "coloraxis": {
           "colorbar": {
            "outlinewidth": 0,
            "ticks": ""
           }
          },
          "colorscale": {
           "diverging": [
            [
             0,
             "#8e0152"
            ],
            [
             0.1,
             "#c51b7d"
            ],
            [
             0.2,
             "#de77ae"
            ],
            [
             0.3,
             "#f1b6da"
            ],
            [
             0.4,
             "#fde0ef"
            ],
            [
             0.5,
             "#f7f7f7"
            ],
            [
             0.6,
             "#e6f5d0"
            ],
            [
             0.7,
             "#b8e186"
            ],
            [
             0.8,
             "#7fbc41"
            ],
            [
             0.9,
             "#4d9221"
            ],
            [
             1,
             "#276419"
            ]
           ],
           "sequential": [
            [
             0,
             "#0d0887"
            ],
            [
             0.1111111111111111,
             "#46039f"
            ],
            [
             0.2222222222222222,
             "#7201a8"
            ],
            [
             0.3333333333333333,
             "#9c179e"
            ],
            [
             0.4444444444444444,
             "#bd3786"
            ],
            [
             0.5555555555555556,
             "#d8576b"
            ],
            [
             0.6666666666666666,
             "#ed7953"
            ],
            [
             0.7777777777777778,
             "#fb9f3a"
            ],
            [
             0.8888888888888888,
             "#fdca26"
            ],
            [
             1,
             "#f0f921"
            ]
           ],
           "sequentialminus": [
            [
             0,
             "#0d0887"
            ],
            [
             0.1111111111111111,
             "#46039f"
            ],
            [
             0.2222222222222222,
             "#7201a8"
            ],
            [
             0.3333333333333333,
             "#9c179e"
            ],
            [
             0.4444444444444444,
             "#bd3786"
            ],
            [
             0.5555555555555556,
             "#d8576b"
            ],
            [
             0.6666666666666666,
             "#ed7953"
            ],
            [
             0.7777777777777778,
             "#fb9f3a"
            ],
            [
             0.8888888888888888,
             "#fdca26"
            ],
            [
             1,
             "#f0f921"
            ]
           ]
          },
          "colorway": [
           "#636efa",
           "#EF553B",
           "#00cc96",
           "#ab63fa",
           "#FFA15A",
           "#19d3f3",
           "#FF6692",
           "#B6E880",
           "#FF97FF",
           "#FECB52"
          ],
          "font": {
           "color": "#2a3f5f"
          },
          "geo": {
           "bgcolor": "white",
           "lakecolor": "white",
           "landcolor": "#E5ECF6",
           "showlakes": true,
           "showland": true,
           "subunitcolor": "white"
          },
          "hoverlabel": {
           "align": "left"
          },
          "hovermode": "closest",
          "mapbox": {
           "style": "light"
          },
          "paper_bgcolor": "white",
          "plot_bgcolor": "#E5ECF6",
          "polar": {
           "angularaxis": {
            "gridcolor": "white",
            "linecolor": "white",
            "ticks": ""
           },
           "bgcolor": "#E5ECF6",
           "radialaxis": {
            "gridcolor": "white",
            "linecolor": "white",
            "ticks": ""
           }
          },
          "scene": {
           "xaxis": {
            "backgroundcolor": "#E5ECF6",
            "gridcolor": "white",
            "gridwidth": 2,
            "linecolor": "white",
            "showbackground": true,
            "ticks": "",
            "zerolinecolor": "white"
           },
           "yaxis": {
            "backgroundcolor": "#E5ECF6",
            "gridcolor": "white",
            "gridwidth": 2,
            "linecolor": "white",
            "showbackground": true,
            "ticks": "",
            "zerolinecolor": "white"
           },
           "zaxis": {
            "backgroundcolor": "#E5ECF6",
            "gridcolor": "white",
            "gridwidth": 2,
            "linecolor": "white",
            "showbackground": true,
            "ticks": "",
            "zerolinecolor": "white"
           }
          },
          "shapedefaults": {
           "line": {
            "color": "#2a3f5f"
           }
          },
          "ternary": {
           "aaxis": {
            "gridcolor": "white",
            "linecolor": "white",
            "ticks": ""
           },
           "baxis": {
            "gridcolor": "white",
            "linecolor": "white",
            "ticks": ""
           },
           "bgcolor": "#E5ECF6",
           "caxis": {
            "gridcolor": "white",
            "linecolor": "white",
            "ticks": ""
           }
          },
          "title": {
           "x": 0.05
          },
          "xaxis": {
           "automargin": true,
           "gridcolor": "white",
           "linecolor": "white",
           "ticks": "",
           "title": {
            "standoff": 15
           },
           "zerolinecolor": "white",
           "zerolinewidth": 2
          },
          "yaxis": {
           "automargin": true,
           "gridcolor": "white",
           "linecolor": "white",
           "ticks": "",
           "title": {
            "standoff": 15
           },
           "zerolinecolor": "white",
           "zerolinewidth": 2
          }
         }
        },
        "title": {
         "text": "Error accros training"
        },
        "xaxis": {
         "anchor": "y",
         "autorange": true,
         "domain": [
          0,
          1
         ],
         "range": [
          0,
          99
         ],
         "title": {
          "text": "Epoch"
         },
         "type": "linear"
        },
        "yaxis": {
         "anchor": "x",
         "autorange": true,
         "domain": [
          0,
          1
         ],
         "range": [
          0.14745200508170658,
          0.2773220158285565
         ],
         "title": {
          "text": "Root Mean Squared value"
         },
         "type": "linear"
        }
       }
      },
      "image/png": "[encoded data removed]"
     },
     "metadata": {},
     "output_type": "display_data"
    }
   ],
   "source": [
    "df = pd.read_pickle('explore.pkl')\n",
    "\n",
    "WindForecaster = WindForecaster(df=df,\n",
    "                                test_size=216,\n",
    "                                prediction_window=4,\n",
    "                                forecast_delay=2,\n",
    "                                forecast_size=1,\n",
    "                                activation_function='tanh',\n",
    "                                loss_metric=\"mean_squared_error\",\n",
    "                                optimizer=\"adam\")\n",
    "\n",
    "train = WindForecaster.train(batch_size = 4, epochs = 100)"
   ]
  },
  {
   "cell_type": "markdown",
   "id": "b07b9b2c-844c-4fcc-9ad1-8b5b98081d11",
   "metadata": {},
   "source": [
    "### Exporting the Trained Model \n",
    "\n",
    "Once trained it is important to export the trained model. Which will allow forecasting latter without the necessity of retraining it."
   ]
  },
  {
   "cell_type": "code",
   "execution_count": 6,
   "id": "ad627219-0892-4b01-990f-c8cc2c99b79d",
   "metadata": {},
   "outputs": [
    {
     "name": "stderr",
     "output_type": "stream",
     "text": [
      "WARNING:absl:Found untraced functions such as lstm_cell_layer_call_fn, lstm_cell_layer_call_and_return_conditional_losses, lstm_cell_layer_call_fn, lstm_cell_layer_call_and_return_conditional_losses, lstm_cell_layer_call_and_return_conditional_losses while saving (showing 5 of 5). These functions will not be directly callable after loading.\n"
     ]
    },
    {
     "name": "stdout",
     "output_type": "stream",
     "text": [
      "INFO:tensorflow:Assets written to: model/assets\n"
     ]
    },
    {
     "name": "stderr",
     "output_type": "stream",
     "text": [
      "INFO:tensorflow:Assets written to: model/assets\n"
     ]
    }
   ],
   "source": [
    "WindForecaster.model.save('model')"
   ]
  }
 ],
 "metadata": {
  "kernelspec": {
   "display_name": "Python 3.8.6 64-bit ('.venv': poetry)",
   "language": "python",
   "name": "python386jvsc74a57bd09ae24440891ded0db606359acf18939257a6957a5b3646e0051971e5435b1274"
  },
  "language_info": {
   "codemirror_mode": {
    "name": "ipython",
    "version": 3
   },
   "file_extension": ".py",
   "mimetype": "text/x-python",
   "name": "python",
   "nbconvert_exporter": "python",
   "pygments_lexer": "ipython3",
   "version": "3.8.6"
  }
 },
 "nbformat": 4,
 "nbformat_minor": 5
}
