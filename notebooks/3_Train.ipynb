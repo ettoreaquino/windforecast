{
 "cells": [
  {
   "cell_type": "markdown",
   "id": "3c15d6a8-0866-4df4-93e3-63198fe262a6",
   "metadata": {},
   "source": [
    "# Training Model\n",
    "\n",
    "This is the **second** notebook of the series.\n",
    "\n",
    "> Make sure you have executed the previous one [2_Prep.ipynb](2_Prep.ipynb). This notebook depends on the class WindForecaster created in the previous notebook\n",
    "---"
   ]
  },
  {
   "cell_type": "markdown",
   "id": "8f474b65-ea4b-4c75-8a99-5e27308baa17",
   "metadata": {},
   "source": [
    "# Objective\n",
    "\n",
    "After exploring the data and preparing it, now is the time to train our selected model. The following cells will load the necessary packages and perform the training of our model considering the defined _training_, _test_ and _validation_ sets.\n",
    "\n",
    "At the end, a trained model will be pickled, so that we could finally use it to Forecast in the final Notebook.\n",
    "\n",
    "---"
   ]
  },
  {
   "cell_type": "markdown",
   "id": "5546604f-0c17-4616-b7b8-6227d5ead398",
   "metadata": {},
   "source": [
    "## Enhancing the `WindForecaster`\n",
    "\n",
    "Now it is time to create a function to train our model using the `model.fit()` method"
   ]
  },
  {
   "cell_type": "code",
   "execution_count": null,
   "id": "445da0f6-98e8-45ed-acf0-57e154807ab8",
   "metadata": {},
   "outputs": [],
   "source": [
    "import pandas as pd\n",
    "import plotly.express as px\n",
    "\n",
    "from main import WindForecaster"
   ]
  },
  {
   "cell_type": "code",
   "execution_count": 2,
   "id": "e7c85c05-93c8-4e68-98ef-792c79a6b2fe",
   "metadata": {},
   "outputs": [
    {
     "name": "stdout",
     "output_type": "stream",
     "text": [
      "Model is ready to be trained.\n"
     ]
    },
    {
     "name": "stderr",
     "output_type": "stream",
     "text": [
      "2021-07-08 18:25:38.938820: W tensorflow/stream_executor/platform/default/dso_loader.cc:64] Could not load dynamic library 'libcuda.so.1'; dlerror: libcuda.so.1: cannot open shared object file: No such file or directory\n",
      "2021-07-08 18:25:38.938836: W tensorflow/stream_executor/cuda/cuda_driver.cc:326] failed call to cuInit: UNKNOWN ERROR (303)\n",
      "2021-07-08 18:25:38.938847: I tensorflow/stream_executor/cuda/cuda_diagnostics.cc:156] kernel driver does not appear to be running on this host (HM01): /proc/driver/nvidia/version does not exist\n",
      "2021-07-08 18:25:38.938980: I tensorflow/core/platform/cpu_feature_guard.cc:142] This TensorFlow binary is optimized with oneAPI Deep Neural Network Library (oneDNN) to use the following CPU instructions in performance-critical operations:  AVX2 FMA\n",
      "To enable them in other operations, rebuild TensorFlow with the appropriate compiler flags.\n"
     ]
    }
   ],
   "source": [
    "df = pd.read_pickle('explore.pkl')\n",
    "\n",
    "WindForecaster = WindForecaster(df=df,\n",
    "                                test_size=216,\n",
    "                                prediction_window=4,\n",
    "                                forecast_delay=2,\n",
    "                                forecast_size=1,\n",
    "                                activation_function='tanh',\n",
    "                                loss_metric=\"mean_squared_error\",\n",
    "                                optimizer=\"adam\")"
   ]
  },
  {
   "cell_type": "code",
   "execution_count": 3,
   "id": "026fd7a5-9918-4e98-9ffc-58f468a12863",
   "metadata": {
    "scrolled": true,
    "tags": []
   },
   "outputs": [
    {
     "name": "stdout",
     "output_type": "stream",
     "text": [
      "Epoch 1/100\n"
     ]
    },
    {
     "name": "stderr",
     "output_type": "stream",
     "text": [
      "2021-07-08 18:25:39.146479: I tensorflow/compiler/mlir/mlir_graph_optimization_pass.cc:176] None of the MLIR Optimization Passes are enabled (registered 2)\n",
      "2021-07-08 18:25:39.163431: I tensorflow/core/platform/profile_utils/cpu_utils.cc:114] CPU Frequency: 2000800000 Hz\n"
     ]
    },
    {
     "name": "stdout",
     "output_type": "stream",
     "text": [
      "131/131 [==============================] - 1s 935us/step - loss: 0.0749 - root_mean_squared_error: 0.2737\n",
      "Epoch 2/100\n",
      "131/131 [==============================] - 0s 956us/step - loss: 0.0262 - root_mean_squared_error: 0.1620\n",
      "Epoch 3/100\n",
      "131/131 [==============================] - 0s 927us/step - loss: 0.0251 - root_mean_squared_error: 0.1583\n",
      "Epoch 4/100\n",
      "131/131 [==============================] - 0s 895us/step - loss: 0.0249 - root_mean_squared_error: 0.1577\n",
      "Epoch 5/100\n",
      "131/131 [==============================] - 0s 887us/step - loss: 0.0246 - root_mean_squared_error: 0.1570\n",
      "Epoch 6/100\n",
      "131/131 [==============================] - 0s 938us/step - loss: 0.0246 - root_mean_squared_error: 0.1567\n",
      "Epoch 7/100\n",
      "131/131 [==============================] - 0s 878us/step - loss: 0.0245 - root_mean_squared_error: 0.1567\n",
      "Epoch 8/100\n",
      "131/131 [==============================] - 0s 901us/step - loss: 0.0243 - root_mean_squared_error: 0.1560\n",
      "Epoch 9/100\n",
      "131/131 [==============================] - 0s 900us/step - loss: 0.0243 - root_mean_squared_error: 0.1558\n",
      "Epoch 10/100\n",
      "131/131 [==============================] - 0s 916us/step - loss: 0.0242 - root_mean_squared_error: 0.1557\n",
      "Epoch 11/100\n",
      "131/131 [==============================] - 0s 838us/step - loss: 0.0242 - root_mean_squared_error: 0.1556\n",
      "Epoch 12/100\n",
      "131/131 [==============================] - 0s 1ms/step - loss: 0.0241 - root_mean_squared_error: 0.1554\n",
      "Epoch 13/100\n",
      "131/131 [==============================] - 0s 907us/step - loss: 0.0241 - root_mean_squared_error: 0.1553\n",
      "Epoch 14/100\n",
      "131/131 [==============================] - 0s 949us/step - loss: 0.0241 - root_mean_squared_error: 0.1553\n",
      "Epoch 15/100\n",
      "131/131 [==============================] - 0s 993us/step - loss: 0.0241 - root_mean_squared_error: 0.1553\n",
      "Epoch 16/100\n",
      "131/131 [==============================] - 0s 886us/step - loss: 0.0242 - root_mean_squared_error: 0.1555\n",
      "Epoch 17/100\n",
      "131/131 [==============================] - 0s 914us/step - loss: 0.0240 - root_mean_squared_error: 0.1551\n",
      "Epoch 18/100\n",
      "131/131 [==============================] - 0s 1ms/step - loss: 0.0241 - root_mean_squared_error: 0.1552\n",
      "Epoch 19/100\n",
      "131/131 [==============================] - 0s 860us/step - loss: 0.0241 - root_mean_squared_error: 0.1551\n",
      "Epoch 20/100\n",
      "131/131 [==============================] - 0s 939us/step - loss: 0.0241 - root_mean_squared_error: 0.1552\n",
      "Epoch 21/100\n",
      "131/131 [==============================] - 0s 891us/step - loss: 0.0239 - root_mean_squared_error: 0.1547\n",
      "Epoch 22/100\n",
      "131/131 [==============================] - 0s 900us/step - loss: 0.0241 - root_mean_squared_error: 0.1553\n",
      "Epoch 23/100\n",
      "131/131 [==============================] - 0s 916us/step - loss: 0.0240 - root_mean_squared_error: 0.1550\n",
      "Epoch 24/100\n",
      "131/131 [==============================] - 0s 915us/step - loss: 0.0240 - root_mean_squared_error: 0.1550\n",
      "Epoch 25/100\n",
      "131/131 [==============================] - 0s 963us/step - loss: 0.0240 - root_mean_squared_error: 0.1550\n",
      "Epoch 26/100\n",
      "131/131 [==============================] - 0s 888us/step - loss: 0.0240 - root_mean_squared_error: 0.1549\n",
      "Epoch 27/100\n",
      "131/131 [==============================] - 0s 908us/step - loss: 0.0239 - root_mean_squared_error: 0.1546\n",
      "Epoch 28/100\n",
      "131/131 [==============================] - 0s 946us/step - loss: 0.0240 - root_mean_squared_error: 0.1549\n",
      "Epoch 29/100\n",
      "131/131 [==============================] - 0s 891us/step - loss: 0.0240 - root_mean_squared_error: 0.1551\n",
      "Epoch 30/100\n",
      "131/131 [==============================] - 0s 890us/step - loss: 0.0241 - root_mean_squared_error: 0.1552\n",
      "Epoch 31/100\n",
      "131/131 [==============================] - 0s 890us/step - loss: 0.0240 - root_mean_squared_error: 0.1548\n",
      "Epoch 32/100\n",
      "131/131 [==============================] - 0s 894us/step - loss: 0.0241 - root_mean_squared_error: 0.1551\n",
      "Epoch 33/100\n",
      "131/131 [==============================] - 0s 889us/step - loss: 0.0241 - root_mean_squared_error: 0.1552\n",
      "Epoch 34/100\n",
      "131/131 [==============================] - 0s 902us/step - loss: 0.0241 - root_mean_squared_error: 0.1551\n",
      "Epoch 35/100\n",
      "131/131 [==============================] - 0s 897us/step - loss: 0.0239 - root_mean_squared_error: 0.1547\n",
      "Epoch 36/100\n",
      "131/131 [==============================] - 0s 866us/step - loss: 0.0239 - root_mean_squared_error: 0.1545\n",
      "Epoch 37/100\n",
      "131/131 [==============================] - 0s 936us/step - loss: 0.0240 - root_mean_squared_error: 0.1549\n",
      "Epoch 38/100\n",
      "131/131 [==============================] - 0s 922us/step - loss: 0.0239 - root_mean_squared_error: 0.1545\n",
      "Epoch 39/100\n",
      "131/131 [==============================] - 0s 857us/step - loss: 0.0240 - root_mean_squared_error: 0.1550\n",
      "Epoch 40/100\n",
      "131/131 [==============================] - 0s 1ms/step - loss: 0.0240 - root_mean_squared_error: 0.1551\n",
      "Epoch 41/100\n",
      "131/131 [==============================] - 0s 938us/step - loss: 0.0240 - root_mean_squared_error: 0.1549\n",
      "Epoch 42/100\n",
      "131/131 [==============================] - 0s 895us/step - loss: 0.0240 - root_mean_squared_error: 0.1549\n",
      "Epoch 43/100\n",
      "131/131 [==============================] - 0s 901us/step - loss: 0.0240 - root_mean_squared_error: 0.1550\n",
      "Epoch 44/100\n",
      "131/131 [==============================] - 0s 897us/step - loss: 0.0240 - root_mean_squared_error: 0.1548\n",
      "Epoch 45/100\n",
      "131/131 [==============================] - 0s 1ms/step - loss: 0.0240 - root_mean_squared_error: 0.1549\n",
      "Epoch 46/100\n",
      "131/131 [==============================] - 0s 1ms/step - loss: 0.0240 - root_mean_squared_error: 0.1548\n",
      "Epoch 47/100\n",
      "131/131 [==============================] - 0s 994us/step - loss: 0.0240 - root_mean_squared_error: 0.1549\n",
      "Epoch 48/100\n",
      "131/131 [==============================] - 0s 868us/step - loss: 0.0239 - root_mean_squared_error: 0.1544\n",
      "Epoch 49/100\n",
      "131/131 [==============================] - 0s 884us/step - loss: 0.0240 - root_mean_squared_error: 0.1549\n",
      "Epoch 50/100\n",
      "131/131 [==============================] - 0s 935us/step - loss: 0.0239 - root_mean_squared_error: 0.1546\n",
      "Epoch 51/100\n",
      "131/131 [==============================] - 0s 905us/step - loss: 0.0239 - root_mean_squared_error: 0.1547\n",
      "Epoch 52/100\n",
      "131/131 [==============================] - 0s 939us/step - loss: 0.0239 - root_mean_squared_error: 0.1547\n",
      "Epoch 53/100\n",
      "131/131 [==============================] - 0s 900us/step - loss: 0.0239 - root_mean_squared_error: 0.1547\n",
      "Epoch 54/100\n",
      "131/131 [==============================] - 0s 915us/step - loss: 0.0239 - root_mean_squared_error: 0.1547\n",
      "Epoch 55/100\n",
      "131/131 [==============================] - 0s 910us/step - loss: 0.0239 - root_mean_squared_error: 0.1547\n",
      "Epoch 56/100\n",
      "131/131 [==============================] - 0s 901us/step - loss: 0.0239 - root_mean_squared_error: 0.1547\n",
      "Epoch 57/100\n",
      "131/131 [==============================] - 0s 967us/step - loss: 0.0238 - root_mean_squared_error: 0.1544\n",
      "Epoch 58/100\n",
      "131/131 [==============================] - 0s 908us/step - loss: 0.0239 - root_mean_squared_error: 0.1547\n",
      "Epoch 59/100\n",
      "131/131 [==============================] - 0s 1ms/step - loss: 0.0239 - root_mean_squared_error: 0.1545\n",
      "Epoch 60/100\n",
      "131/131 [==============================] - 0s 935us/step - loss: 0.0239 - root_mean_squared_error: 0.1546\n",
      "Epoch 61/100\n",
      "131/131 [==============================] - 0s 961us/step - loss: 0.0239 - root_mean_squared_error: 0.1546\n",
      "Epoch 62/100\n",
      "131/131 [==============================] - 0s 908us/step - loss: 0.0239 - root_mean_squared_error: 0.1546\n",
      "Epoch 63/100\n",
      "131/131 [==============================] - 0s 936us/step - loss: 0.0239 - root_mean_squared_error: 0.1546\n",
      "Epoch 64/100\n",
      "131/131 [==============================] - 0s 887us/step - loss: 0.0237 - root_mean_squared_error: 0.1540\n",
      "Epoch 65/100\n",
      "131/131 [==============================] - 0s 921us/step - loss: 0.0241 - root_mean_squared_error: 0.1552\n",
      "Epoch 66/100\n",
      "131/131 [==============================] - 0s 860us/step - loss: 0.0238 - root_mean_squared_error: 0.1543\n",
      "Epoch 67/100\n",
      "131/131 [==============================] - 0s 947us/step - loss: 0.0238 - root_mean_squared_error: 0.1543\n",
      "Epoch 68/100\n",
      "131/131 [==============================] - 0s 903us/step - loss: 0.0239 - root_mean_squared_error: 0.1547\n",
      "Epoch 69/100\n",
      "131/131 [==============================] - 0s 917us/step - loss: 0.0238 - root_mean_squared_error: 0.1544\n",
      "Epoch 70/100\n",
      "131/131 [==============================] - 0s 879us/step - loss: 0.0240 - root_mean_squared_error: 0.1548\n",
      "Epoch 71/100\n",
      "131/131 [==============================] - 0s 975us/step - loss: 0.0238 - root_mean_squared_error: 0.1544\n",
      "Epoch 72/100\n",
      "131/131 [==============================] - 0s 1ms/step - loss: 0.0239 - root_mean_squared_error: 0.1546\n",
      "Epoch 73/100\n",
      "131/131 [==============================] - 0s 1ms/step - loss: 0.0239 - root_mean_squared_error: 0.1546\n",
      "Epoch 74/100\n",
      "131/131 [==============================] - 0s 933us/step - loss: 0.0239 - root_mean_squared_error: 0.1545\n",
      "Epoch 75/100\n",
      "131/131 [==============================] - 0s 885us/step - loss: 0.0238 - root_mean_squared_error: 0.1543\n",
      "Epoch 76/100\n",
      "131/131 [==============================] - 0s 1ms/step - loss: 0.0239 - root_mean_squared_error: 0.1546\n",
      "Epoch 77/100\n",
      "131/131 [==============================] - 0s 1ms/step - loss: 0.0238 - root_mean_squared_error: 0.1544\n",
      "Epoch 78/100\n",
      "131/131 [==============================] - 0s 907us/step - loss: 0.0239 - root_mean_squared_error: 0.1546\n",
      "Epoch 79/100\n",
      "131/131 [==============================] - 0s 963us/step - loss: 0.0240 - root_mean_squared_error: 0.1548\n",
      "Epoch 80/100\n",
      "131/131 [==============================] - 0s 1ms/step - loss: 0.0239 - root_mean_squared_error: 0.1545\n",
      "Epoch 81/100\n",
      "131/131 [==============================] - 0s 1ms/step - loss: 0.0238 - root_mean_squared_error: 0.1544\n",
      "Epoch 82/100\n",
      "131/131 [==============================] - 0s 1ms/step - loss: 0.0239 - root_mean_squared_error: 0.1545\n",
      "Epoch 83/100\n",
      "131/131 [==============================] - 0s 892us/step - loss: 0.0238 - root_mean_squared_error: 0.1542\n",
      "Epoch 84/100\n",
      "131/131 [==============================] - 0s 1ms/step - loss: 0.0238 - root_mean_squared_error: 0.1542\n",
      "Epoch 85/100\n",
      "131/131 [==============================] - 0s 1ms/step - loss: 0.0239 - root_mean_squared_error: 0.1545\n",
      "Epoch 86/100\n",
      "131/131 [==============================] - 0s 957us/step - loss: 0.0239 - root_mean_squared_error: 0.1546\n",
      "Epoch 87/100\n",
      "131/131 [==============================] - 0s 892us/step - loss: 0.0238 - root_mean_squared_error: 0.1544\n",
      "Epoch 88/100\n",
      "131/131 [==============================] - 0s 930us/step - loss: 0.0239 - root_mean_squared_error: 0.1546\n",
      "Epoch 89/100\n",
      "131/131 [==============================] - 0s 985us/step - loss: 0.0238 - root_mean_squared_error: 0.1543\n",
      "Epoch 90/100\n",
      "131/131 [==============================] - 0s 972us/step - loss: 0.0239 - root_mean_squared_error: 0.1545\n",
      "Epoch 91/100\n",
      "131/131 [==============================] - 0s 976us/step - loss: 0.0239 - root_mean_squared_error: 0.1547\n",
      "Epoch 92/100\n",
      "131/131 [==============================] - 0s 955us/step - loss: 0.0238 - root_mean_squared_error: 0.1543\n",
      "Epoch 93/100\n",
      "131/131 [==============================] - 0s 989us/step - loss: 0.0238 - root_mean_squared_error: 0.1543\n",
      "Epoch 94/100\n",
      "131/131 [==============================] - 0s 935us/step - loss: 0.0239 - root_mean_squared_error: 0.1544\n",
      "Epoch 95/100\n",
      "131/131 [==============================] - 0s 1ms/step - loss: 0.0238 - root_mean_squared_error: 0.1544\n",
      "Epoch 96/100\n",
      "131/131 [==============================] - 0s 910us/step - loss: 0.0238 - root_mean_squared_error: 0.1542\n",
      "Epoch 97/100\n",
      "131/131 [==============================] - 0s 969us/step - loss: 0.0238 - root_mean_squared_error: 0.1542\n",
      "Epoch 98/100\n",
      "131/131 [==============================] - 0s 1ms/step - loss: 0.0238 - root_mean_squared_error: 0.1544\n",
      "Epoch 99/100\n",
      "131/131 [==============================] - 0s 865us/step - loss: 0.0238 - root_mean_squared_error: 0.1544\n",
      "Epoch 100/100\n",
      "131/131 [==============================] - 0s 906us/step - loss: 0.0238 - root_mean_squared_error: 0.1542\n"
     ]
    },
    {
     "data": {
      "application/vnd.plotly.v1+json": {
       "config": {
        "plotlyServerURL": "https://plot.ly"
       },
       "data": [
        {
         "hovertemplate": "Erro Metric=RMSE<br>Epoch=%{x}<br>Root Mean Squared value=%{y}<extra></extra>",
         "legendgroup": "RMSE",
         "line": {
          "color": "#636efa",
          "dash": "solid"
         },
         "mode": "lines",
         "name": "RMSE",
         "orientation": "v",
         "showlegend": true,
         "type": "scatter",
         "x": [
          0,
          1,
          2,
          3,
          4,
          5,
          6,
          7,
          8,
          9,
          10,
          11,
          12,
          13,
          14,
          15,
          16,
          17,
          18,
          19,
          20,
          21,
          22,
          23,
          24,
          25,
          26,
          27,
          28,
          29,
          30,
          31,
          32,
          33,
          34,
          35,
          36,
          37,
          38,
          39,
          40,
          41,
          42,
          43,
          44,
          45,
          46,
          47,
          48,
          49,
          50,
          51,
          52,
          53,
          54,
          55,
          56,
          57,
          58,
          59,
          60,
          61,
          62,
          63,
          64,
          65,
          66,
          67,
          68,
          69,
          70,
          71,
          72,
          73,
          74,
          75,
          76,
          77,
          78,
          79,
          80,
          81,
          82,
          83,
          84,
          85,
          86,
          87,
          88,
          89,
          90,
          91,
          92,
          93,
          94,
          95,
          96,
          97,
          98,
          99
         ],
         "xaxis": "x",
         "y": [
          0.2737334370613098,
          0.16196604073047638,
          0.15833716094493866,
          0.15769587457180023,
          0.15698400139808655,
          0.15674711763858795,
          0.15667739510536194,
          0.15603402256965637,
          0.1558118462562561,
          0.15571336448192596,
          0.15556493401527405,
          0.1553904414176941,
          0.15533091127872467,
          0.1552545428276062,
          0.1552993804216385,
          0.1555054634809494,
          0.15505072474479675,
          0.15519846975803375,
          0.15509268641471863,
          0.15516147017478943,
          0.15473507344722748,
          0.15527456998825073,
          0.1550368368625641,
          0.15498176217079163,
          0.15495386719703674,
          0.1548745036125183,
          0.15464141964912415,
          0.15488018095493317,
          0.15507665276527405,
          0.15516208112239838,
          0.15484802424907684,
          0.15508663654327393,
          0.15523958206176758,
          0.1550929695367813,
          0.15468914806842804,
          0.15452322363853455,
          0.1548832505941391,
          0.15450581908226013,
          0.1549547016620636,
          0.15507450699806213,
          0.15494199097156525,
          0.15485507249832153,
          0.15504707396030426,
          0.15481238067150116,
          0.154934361577034,
          0.15483316779136658,
          0.1549263298511505,
          0.15444491803646088,
          0.15487723052501678,
          0.15458883345127106,
          0.1546674370765686,
          0.1547323316335678,
          0.15468153357505798,
          0.15468452870845795,
          0.15468613803386688,
          0.1546659618616104,
          0.15441878139972687,
          0.15474799275398254,
          0.15450412034988403,
          0.15457798540592194,
          0.154552161693573,
          0.15460096299648285,
          0.1545984148979187,
          0.15397612750530243,
          0.15517650544643402,
          0.1542803943157196,
          0.1543201208114624,
          0.15471912920475006,
          0.1543840616941452,
          0.1548013538122177,
          0.15439338982105255,
          0.15455958247184753,
          0.15455655753612518,
          0.1544725000858307,
          0.1542923003435135,
          0.15457725524902344,
          0.15436993539333344,
          0.15459579229354858,
          0.1547984480857849,
          0.15452489256858826,
          0.15441027283668518,
          0.15454567968845367,
          0.15419800579547882,
          0.15422983467578888,
          0.15454818308353424,
          0.15457414090633392,
          0.15438596904277802,
          0.15463176369667053,
          0.1543402224779129,
          0.1545463651418686,
          0.15472108125686646,
          0.15429875254631042,
          0.15429900586605072,
          0.15443836152553558,
          0.1543974131345749,
          0.1542416363954544,
          0.15423701703548431,
          0.15442416071891785,
          0.15441133081912994,
          0.15415309369564056
         ],
         "yaxis": "y"
        }
       ],
       "layout": {
        "autosize": true,
        "legend": {
         "title": {
          "text": "Erro Metric"
         },
         "tracegroupgap": 0
        },
        "template": {
         "data": {
          "bar": [
           {
            "error_x": {
             "color": "#2a3f5f"
            },
            "error_y": {
             "color": "#2a3f5f"
            },
            "marker": {
             "line": {
              "color": "#E5ECF6",
              "width": 0.5
             },
             "pattern": {
              "fillmode": "overlay",
              "size": 10,
              "solidity": 0.2
             }
            },
            "type": "bar"
           }
          ],
          "barpolar": [
           {
            "marker": {
             "line": {
              "color": "#E5ECF6",
              "width": 0.5
             },
             "pattern": {
              "fillmode": "overlay",
              "size": 10,
              "solidity": 0.2
             }
            },
            "type": "barpolar"
           }
          ],
          "carpet": [
           {
            "aaxis": {
             "endlinecolor": "#2a3f5f",
             "gridcolor": "white",
             "linecolor": "white",
             "minorgridcolor": "white",
             "startlinecolor": "#2a3f5f"
            },
            "baxis": {
             "endlinecolor": "#2a3f5f",
             "gridcolor": "white",
             "linecolor": "white",
             "minorgridcolor": "white",
             "startlinecolor": "#2a3f5f"
            },
            "type": "carpet"
           }
          ],
          "choropleth": [
           {
            "colorbar": {
             "outlinewidth": 0,
             "ticks": ""
            },
            "type": "choropleth"
           }
          ],
          "contour": [
           {
            "colorbar": {
             "outlinewidth": 0,
             "ticks": ""
            },
            "colorscale": [
             [
              0,
              "#0d0887"
             ],
             [
              0.1111111111111111,
              "#46039f"
             ],
             [
              0.2222222222222222,
              "#7201a8"
             ],
             [
              0.3333333333333333,
              "#9c179e"
             ],
             [
              0.4444444444444444,
              "#bd3786"
             ],
             [
              0.5555555555555556,
              "#d8576b"
             ],
             [
              0.6666666666666666,
              "#ed7953"
             ],
             [
              0.7777777777777778,
              "#fb9f3a"
             ],
             [
              0.8888888888888888,
              "#fdca26"
             ],
             [
              1,
              "#f0f921"
             ]
            ],
            "type": "contour"
           }
          ],
          "contourcarpet": [
           {
            "colorbar": {
             "outlinewidth": 0,
             "ticks": ""
            },
            "type": "contourcarpet"
           }
          ],
          "heatmap": [
           {
            "colorbar": {
             "outlinewidth": 0,
             "ticks": ""
            },
            "colorscale": [
             [
              0,
              "#0d0887"
             ],
             [
              0.1111111111111111,
              "#46039f"
             ],
             [
              0.2222222222222222,
              "#7201a8"
             ],
             [
              0.3333333333333333,
              "#9c179e"
             ],
             [
              0.4444444444444444,
              "#bd3786"
             ],
             [
              0.5555555555555556,
              "#d8576b"
             ],
             [
              0.6666666666666666,
              "#ed7953"
             ],
             [
              0.7777777777777778,
              "#fb9f3a"
             ],
             [
              0.8888888888888888,
              "#fdca26"
             ],
             [
              1,
              "#f0f921"
             ]
            ],
            "type": "heatmap"
           }
          ],
          "heatmapgl": [
           {
            "colorbar": {
             "outlinewidth": 0,
             "ticks": ""
            },
            "colorscale": [
             [
              0,
              "#0d0887"
             ],
             [
              0.1111111111111111,
              "#46039f"
             ],
             [
              0.2222222222222222,
              "#7201a8"
             ],
             [
              0.3333333333333333,
              "#9c179e"
             ],
             [
              0.4444444444444444,
              "#bd3786"
             ],
             [
              0.5555555555555556,
              "#d8576b"
             ],
             [
              0.6666666666666666,
              "#ed7953"
             ],
             [
              0.7777777777777778,
              "#fb9f3a"
             ],
             [
              0.8888888888888888,
              "#fdca26"
             ],
             [
              1,
              "#f0f921"
             ]
            ],
            "type": "heatmapgl"
           }
          ],
          "histogram": [
           {
            "marker": {
             "pattern": {
              "fillmode": "overlay",
              "size": 10,
              "solidity": 0.2
             }
            },
            "type": "histogram"
           }
          ],
          "histogram2d": [
           {
            "colorbar": {
             "outlinewidth": 0,
             "ticks": ""
            },
            "colorscale": [
             [
              0,
              "#0d0887"
             ],
             [
              0.1111111111111111,
              "#46039f"
             ],
             [
              0.2222222222222222,
              "#7201a8"
             ],
             [
              0.3333333333333333,
              "#9c179e"
             ],
             [
              0.4444444444444444,
              "#bd3786"
             ],
             [
              0.5555555555555556,
              "#d8576b"
             ],
             [
              0.6666666666666666,
              "#ed7953"
             ],
             [
              0.7777777777777778,
              "#fb9f3a"
             ],
             [
              0.8888888888888888,
              "#fdca26"
             ],
             [
              1,
              "#f0f921"
             ]
            ],
            "type": "histogram2d"
           }
          ],
          "histogram2dcontour": [
           {
            "colorbar": {
             "outlinewidth": 0,
             "ticks": ""
            },
            "colorscale": [
             [
              0,
              "#0d0887"
             ],
             [
              0.1111111111111111,
              "#46039f"
             ],
             [
              0.2222222222222222,
              "#7201a8"
             ],
             [
              0.3333333333333333,
              "#9c179e"
             ],
             [
              0.4444444444444444,
              "#bd3786"
             ],
             [
              0.5555555555555556,
              "#d8576b"
             ],
             [
              0.6666666666666666,
              "#ed7953"
             ],
             [
              0.7777777777777778,
              "#fb9f3a"
             ],
             [
              0.8888888888888888,
              "#fdca26"
             ],
             [
              1,
              "#f0f921"
             ]
            ],
            "type": "histogram2dcontour"
           }
          ],
          "mesh3d": [
           {
            "colorbar": {
             "outlinewidth": 0,
             "ticks": ""
            },
            "type": "mesh3d"
           }
          ],
          "parcoords": [
           {
            "line": {
             "colorbar": {
              "outlinewidth": 0,
              "ticks": ""
             }
            },
            "type": "parcoords"
           }
          ],
          "pie": [
           {
            "automargin": true,
            "type": "pie"
           }
          ],
          "scatter": [
           {
            "marker": {
             "colorbar": {
              "outlinewidth": 0,
              "ticks": ""
             }
            },
            "type": "scatter"
           }
          ],
          "scatter3d": [
           {
            "line": {
             "colorbar": {
              "outlinewidth": 0,
              "ticks": ""
             }
            },
            "marker": {
             "colorbar": {
              "outlinewidth": 0,
              "ticks": ""
             }
            },
            "type": "scatter3d"
           }
          ],
          "scattercarpet": [
           {
            "marker": {
             "colorbar": {
              "outlinewidth": 0,
              "ticks": ""
             }
            },
            "type": "scattercarpet"
           }
          ],
          "scattergeo": [
           {
            "marker": {
             "colorbar": {
              "outlinewidth": 0,
              "ticks": ""
             }
            },
            "type": "scattergeo"
           }
          ],
          "scattergl": [
           {
            "marker": {
             "colorbar": {
              "outlinewidth": 0,
              "ticks": ""
             }
            },
            "type": "scattergl"
           }
          ],
          "scattermapbox": [
           {
            "marker": {
             "colorbar": {
              "outlinewidth": 0,
              "ticks": ""
             }
            },
            "type": "scattermapbox"
           }
          ],
          "scatterpolar": [
           {
            "marker": {
             "colorbar": {
              "outlinewidth": 0,
              "ticks": ""
             }
            },
            "type": "scatterpolar"
           }
          ],
          "scatterpolargl": [
           {
            "marker": {
             "colorbar": {
              "outlinewidth": 0,
              "ticks": ""
             }
            },
            "type": "scatterpolargl"
           }
          ],
          "scatterternary": [
           {
            "marker": {
             "colorbar": {
              "outlinewidth": 0,
              "ticks": ""
             }
            },
            "type": "scatterternary"
           }
          ],
          "surface": [
           {
            "colorbar": {
             "outlinewidth": 0,
             "ticks": ""
            },
            "colorscale": [
             [
              0,
              "#0d0887"
             ],
             [
              0.1111111111111111,
              "#46039f"
             ],
             [
              0.2222222222222222,
              "#7201a8"
             ],
             [
              0.3333333333333333,
              "#9c179e"
             ],
             [
              0.4444444444444444,
              "#bd3786"
             ],
             [
              0.5555555555555556,
              "#d8576b"
             ],
             [
              0.6666666666666666,
              "#ed7953"
             ],
             [
              0.7777777777777778,
              "#fb9f3a"
             ],
             [
              0.8888888888888888,
              "#fdca26"
             ],
             [
              1,
              "#f0f921"
             ]
            ],
            "type": "surface"
           }
          ],
          "table": [
           {
            "cells": {
             "fill": {
              "color": "#EBF0F8"
             },
             "line": {
              "color": "white"
             }
            },
            "header": {
             "fill": {
              "color": "#C8D4E3"
             },
             "line": {
              "color": "white"
             }
            },
            "type": "table"
           }
          ]
         },
         "layout": {
          "annotationdefaults": {
           "arrowcolor": "#2a3f5f",
           "arrowhead": 0,
           "arrowwidth": 1
          },
          "autotypenumbers": "strict",
          "coloraxis": {
           "colorbar": {
            "outlinewidth": 0,
            "ticks": ""
           }
          },
          "colorscale": {
           "diverging": [
            [
             0,
             "#8e0152"
            ],
            [
             0.1,
             "#c51b7d"
            ],
            [
             0.2,
             "#de77ae"
            ],
            [
             0.3,
             "#f1b6da"
            ],
            [
             0.4,
             "#fde0ef"
            ],
            [
             0.5,
             "#f7f7f7"
            ],
            [
             0.6,
             "#e6f5d0"
            ],
            [
             0.7,
             "#b8e186"
            ],
            [
             0.8,
             "#7fbc41"
            ],
            [
             0.9,
             "#4d9221"
            ],
            [
             1,
             "#276419"
            ]
           ],
           "sequential": [
            [
             0,
             "#0d0887"
            ],
            [
             0.1111111111111111,
             "#46039f"
            ],
            [
             0.2222222222222222,
             "#7201a8"
            ],
            [
             0.3333333333333333,
             "#9c179e"
            ],
            [
             0.4444444444444444,
             "#bd3786"
            ],
            [
             0.5555555555555556,
             "#d8576b"
            ],
            [
             0.6666666666666666,
             "#ed7953"
            ],
            [
             0.7777777777777778,
             "#fb9f3a"
            ],
            [
             0.8888888888888888,
             "#fdca26"
            ],
            [
             1,
             "#f0f921"
            ]
           ],
           "sequentialminus": [
            [
             0,
             "#0d0887"
            ],
            [
             0.1111111111111111,
             "#46039f"
            ],
            [
             0.2222222222222222,
             "#7201a8"
            ],
            [
             0.3333333333333333,
             "#9c179e"
            ],
            [
             0.4444444444444444,
             "#bd3786"
            ],
            [
             0.5555555555555556,
             "#d8576b"
            ],
            [
             0.6666666666666666,
             "#ed7953"
            ],
            [
             0.7777777777777778,
             "#fb9f3a"
            ],
            [
             0.8888888888888888,
             "#fdca26"
            ],
            [
             1,
             "#f0f921"
            ]
           ]
          },
          "colorway": [
           "#636efa",
           "#EF553B",
           "#00cc96",
           "#ab63fa",
           "#FFA15A",
           "#19d3f3",
           "#FF6692",
           "#B6E880",
           "#FF97FF",
           "#FECB52"
          ],
          "font": {
           "color": "#2a3f5f"
          },
          "geo": {
           "bgcolor": "white",
           "lakecolor": "white",
           "landcolor": "#E5ECF6",
           "showlakes": true,
           "showland": true,
           "subunitcolor": "white"
          },
          "hoverlabel": {
           "align": "left"
          },
          "hovermode": "closest",
          "mapbox": {
           "style": "light"
          },
          "paper_bgcolor": "white",
          "plot_bgcolor": "#E5ECF6",
          "polar": {
           "angularaxis": {
            "gridcolor": "white",
            "linecolor": "white",
            "ticks": ""
           },
           "bgcolor": "#E5ECF6",
           "radialaxis": {
            "gridcolor": "white",
            "linecolor": "white",
            "ticks": ""
           }
          },
          "scene": {
           "xaxis": {
            "backgroundcolor": "#E5ECF6",
            "gridcolor": "white",
            "gridwidth": 2,
            "linecolor": "white",
            "showbackground": true,
            "ticks": "",
            "zerolinecolor": "white"
           },
           "yaxis": {
            "backgroundcolor": "#E5ECF6",
            "gridcolor": "white",
            "gridwidth": 2,
            "linecolor": "white",
            "showbackground": true,
            "ticks": "",
            "zerolinecolor": "white"
           },
           "zaxis": {
            "backgroundcolor": "#E5ECF6",
            "gridcolor": "white",
            "gridwidth": 2,
            "linecolor": "white",
            "showbackground": true,
            "ticks": "",
            "zerolinecolor": "white"
           }
          },
          "shapedefaults": {
           "line": {
            "color": "#2a3f5f"
           }
          },
          "ternary": {
           "aaxis": {
            "gridcolor": "white",
            "linecolor": "white",
            "ticks": ""
           },
           "baxis": {
            "gridcolor": "white",
            "linecolor": "white",
            "ticks": ""
           },
           "bgcolor": "#E5ECF6",
           "caxis": {
            "gridcolor": "white",
            "linecolor": "white",
            "ticks": ""
           }
          },
          "title": {
           "x": 0.05
          },
          "xaxis": {
           "automargin": true,
           "gridcolor": "white",
           "linecolor": "white",
           "ticks": "",
           "title": {
            "standoff": 15
           },
           "zerolinecolor": "white",
           "zerolinewidth": 2
          },
          "yaxis": {
           "automargin": true,
           "gridcolor": "white",
           "linecolor": "white",
           "ticks": "",
           "title": {
            "standoff": 15
           },
           "zerolinecolor": "white",
           "zerolinewidth": 2
          }
         }
        },
        "title": {
         "text": "Error"
        },
        "xaxis": {
         "anchor": "y",
         "autorange": true,
         "domain": [
          0,
          1
         ],
         "range": [
          0,
          99
         ],
         "title": {
          "text": "Epoch"
         },
         "type": "linear"
        },
        "yaxis": {
         "anchor": "x",
         "autorange": true,
         "domain": [
          0,
          1
         ],
         "range": [
          0.14732294364107978,
          0.28038662092553246
         ],
         "title": {
          "text": "Root Mean Squared value"
         },
         "type": "linear"
        }
       }
      },
      "image/png": "[encoded data removed]"
     },
     "metadata": {},
     "output_type": "display_data"
    }
   ],
   "source": [
    "def train(batch_size:int, epochs:int, verbone: str=\"auto\", plot: bool=True):\n",
    "\n",
    "    model = WindForecaster.model\n",
    "    X = WindForecaster.train_X\n",
    "    Y = WindForecaster.train_Y\n",
    "    \n",
    "    training = model.fit(x=X, y=Y,batch_size=batch_size,epochs=epochs,verbose=\"auto\")\n",
    "    \n",
    "    if plot:\n",
    "        hist_df = pd.DataFrame(training.history)\n",
    "        hist_df = hist_df.rename(columns={'root_mean_squared_error': 'RMSE'})\n",
    "        fig = px.line(hist_df['RMSE'], title=\"Error\",labels={\"value\": \"Root Mean Squared value\",\"index\": \"Epoch\",\"variable\": \"Erro Metric\"})\n",
    "        fig.show()\n",
    "        \n",
    "    return model\n",
    "\n",
    "training = train(batch_size=4, epochs=100)"
   ]
  },
  {
   "cell_type": "markdown",
   "id": "e4d2e4dc-43b9-4def-8857-0f84f338d9ce",
   "metadata": {},
   "source": [
    "### Extending the WindForecaster class\n",
    "\n",
    "Now that a training function was created, the next step is to extend the Forecaster."
   ]
  },
  {
   "cell_type": "code",
   "execution_count": 4,
   "id": "bcaf95a2-8c1a-4446-b3fc-cad38d36633d",
   "metadata": {},
   "outputs": [],
   "source": [
    "import numpy as np\n",
    "import os\n",
    "import pandas as pd\n",
    "import plotly.express as px\n",
    "import tensorflow as tf\n",
    "\n",
    "from sklearn import preprocessing\n",
    "from sklearn.model_selection import TimeSeriesSplit\n",
    "from tensorflow.keras.models import Sequential\n",
    "from tensorflow.keras.layers import Dense, LSTM\n",
    "\n",
    "os.environ['TF_CPP_MIN_LOG_LEVEL'] = '3'  # or any {'0', '1', '2'}\n",
    "\n",
    "class WindForecaster:\n",
    "    def __init__(self, df:pd.DataFrame, test_size: int, prediction_window: int,\n",
    "                       forecast_delay: int, forecast_size: int, activation_function: str,\n",
    "                       loss_metric: str, optimizer: str):\n",
    "        \n",
    "        \n",
    "        self.dataset = self.__normalize(self.__reshape(df))\n",
    "        self.train_set, self.test_set = self.__split(test_size)\n",
    "        \n",
    "        self.train_X, self.train_Y = self.__createTimeWindows(\n",
    "            dataset=self.train_set['normalized'].values,\n",
    "            prediction_window=prediction_window,\n",
    "            forecast_delay=forecast_delay)\n",
    "        \n",
    "        self.test_X, self.test_Y = self.__createTimeWindows(\n",
    "            dataset=self.test_set['normalized'].values,\n",
    "            prediction_window=prediction_window,\n",
    "            forecast_delay=forecast_delay)\n",
    "        \n",
    "        self.model = self.__init_model(prediction_window=prediction_window, forecast_size=forecast_size,\n",
    "                                       activation_function=activation_function, loss_metric=loss_metric,\n",
    "                                       optimizer=optimizer)\n",
    "        \n",
    "    def __reshape(self, df) -> pd.DataFrame:\n",
    "        \"\"\"Reshapes the provided Dataset into a single feature dataset\n",
    "        \"\"\"\n",
    "        df = df.T.stack().to_frame()\n",
    "        df.index = ['2021-01-{:02d} {:02d}:00'.format(int(i), j) for i, j in df.index]\n",
    "        df = df.rename(columns={0: 'speed'})\n",
    "\n",
    "        return df\n",
    "    \n",
    "    def __normalize(self, df) -> pd.DataFrame:\n",
    "        \"\"\"Wind Speed normalization\n",
    "        \"\"\"\n",
    "        indexes = df.index\n",
    "        values = df.values\n",
    "        scaler = preprocessing.MinMaxScaler(feature_range=(0, 1))\n",
    "        scaled_values = scaler.fit_transform(values)\n",
    "        df['normalized'] = scaled_values\n",
    "\n",
    "        return df\n",
    "\n",
    "    def __split(self, test_size:int):\n",
    "        \"\"\"Splits the dataset for training and testing\n",
    "        \"\"\"\n",
    "        tscv = TimeSeriesSplit(n_splits=2, test_size=test_size)\n",
    "        for train_index, test_index in tscv.split(self.dataset):\n",
    "            train, test = self.dataset.iloc[train_index], self.dataset.iloc[test_index]\n",
    "\n",
    "        return train, test\n",
    "    \n",
    "    def __createTimeWindows(self,dataset, prediction_window: int, forecast_delay: int) -> (np.array, np.array):\n",
    "        \"\"\"Creates time windows, which could be used for prediction or testing\n",
    "        \"\"\"\n",
    "        X, Y = [], []\n",
    "        for i in range(0, dataset.shape[0] - prediction_window - 1):\n",
    "            X.append(dataset[i:(i + prediction_window)])\n",
    "            Y.append(dataset[i + prediction_window + forecast_delay - 1])\n",
    "\n",
    "        X,Y = np.array(X), np.array(Y)\n",
    "        return np.reshape(X, (X.shape[0], 1, X.shape[-1])), Y\n",
    "    \n",
    "    def __init_model(self, prediction_window: int, forecast_size: int,\n",
    "                     activation_function: str, loss_metric: str, optimizer: str):\n",
    "    \n",
    "        units = int((prediction_window * 0.67) + (forecast_size * 0.33))\n",
    "        input_shape = (1, prediction_window)\n",
    "\n",
    "        model = Sequential()\n",
    "        tf.keras.optimizers.Adam(learning_rate=1e-5, beta_1=0.9, beta_2=0.999,\n",
    "                                     epsilon=1e-07, amsgrad=False, name=\"adam\")\n",
    "        model.add(LSTM(units=units, input_shape=input_shape))\n",
    "        model.add(Dense(1, activation=activation_function))\n",
    "\n",
    "        metrics = tf.keras.metrics.RootMeanSquaredError()\n",
    "\n",
    "        model.compile(\n",
    "            loss=loss_metric,\n",
    "            metrics=[metrics],\n",
    "            optimizer=optimizer)\n",
    "\n",
    "        print(\"Model is ready to be trained.\")\n",
    "        return model\n",
    "    \n",
    "    def train(self, batch_size:int, epochs:int, verbose: str=\"auto\", plot: bool=True):\n",
    "\n",
    "        training = self.model.fit(x=self.train_X, y=self.train_Y,batch_size=batch_size,epochs=epochs,verbose=verbose)\n",
    "\n",
    "        if plot:\n",
    "            hist_df = pd.DataFrame(training.history)\n",
    "            hist_df = hist_df.rename(columns={'root_mean_squared_error': 'RMSE'})\n",
    "            fig = px.line(hist_df['RMSE'], title=\"Error accros training\",labels={\"value\": \"Root Mean Squared value\",\"index\": \"Epoch\",\"variable\": \"Erro Metric\"})\n",
    "            fig.show()\n",
    "            \n",
    "        return training\n",
    "    \n",
    "    def __repr__(self):\n",
    "        \n",
    "        self.model.summary()\n",
    "        return \"\""
   ]
  },
  {
   "cell_type": "code",
   "execution_count": 5,
   "id": "b37b06b4-66a1-4a5a-9380-70d03ccb04c1",
   "metadata": {
    "scrolled": true,
    "tags": []
   },
   "outputs": [
    {
     "name": "stdout",
     "output_type": "stream",
     "text": [
      "Model is ready to be trained.\n",
      "Epoch 1/100\n",
      "131/131 [==============================] - 1s 1ms/step - loss: 0.1060 - root_mean_squared_error: 0.3256\n",
      "Epoch 2/100\n",
      "131/131 [==============================] - 0s 885us/step - loss: 0.0351 - root_mean_squared_error: 0.1872\n",
      "Epoch 3/100\n",
      "131/131 [==============================] - 0s 911us/step - loss: 0.0284 - root_mean_squared_error: 0.1686\n",
      "Epoch 4/100\n",
      "131/131 [==============================] - 0s 898us/step - loss: 0.0277 - root_mean_squared_error: 0.1665\n",
      "Epoch 5/100\n",
      "131/131 [==============================] - 0s 922us/step - loss: 0.0275 - root_mean_squared_error: 0.1659\n",
      "Epoch 6/100\n",
      "131/131 [==============================] - 0s 940us/step - loss: 0.0273 - root_mean_squared_error: 0.1651\n",
      "Epoch 7/100\n",
      "131/131 [==============================] - 0s 911us/step - loss: 0.0271 - root_mean_squared_error: 0.1646\n",
      "Epoch 8/100\n",
      "131/131 [==============================] - 0s 952us/step - loss: 0.0269 - root_mean_squared_error: 0.1640\n",
      "Epoch 9/100\n",
      "131/131 [==============================] - 0s 911us/step - loss: 0.0267 - root_mean_squared_error: 0.1634\n",
      "Epoch 10/100\n",
      "131/131 [==============================] - 0s 912us/step - loss: 0.0265 - root_mean_squared_error: 0.1629\n",
      "Epoch 11/100\n",
      "131/131 [==============================] - 0s 923us/step - loss: 0.0264 - root_mean_squared_error: 0.1625\n",
      "Epoch 12/100\n",
      "131/131 [==============================] - 0s 1ms/step - loss: 0.0263 - root_mean_squared_error: 0.1622\n",
      "Epoch 13/100\n",
      "131/131 [==============================] - 0s 1ms/step - loss: 0.0261 - root_mean_squared_error: 0.1615\n",
      "Epoch 14/100\n",
      "131/131 [==============================] - 0s 1ms/step - loss: 0.0260 - root_mean_squared_error: 0.1613\n",
      "Epoch 15/100\n",
      "131/131 [==============================] - 0s 1ms/step - loss: 0.0260 - root_mean_squared_error: 0.1611\n",
      "Epoch 16/100\n",
      "131/131 [==============================] - 0s 1ms/step - loss: 0.0258 - root_mean_squared_error: 0.1605\n",
      "Epoch 17/100\n",
      "131/131 [==============================] - 0s 1ms/step - loss: 0.0257 - root_mean_squared_error: 0.1605\n",
      "Epoch 18/100\n",
      "131/131 [==============================] - 0s 1ms/step - loss: 0.0255 - root_mean_squared_error: 0.1596\n",
      "Epoch 19/100\n",
      "131/131 [==============================] - 0s 958us/step - loss: 0.0255 - root_mean_squared_error: 0.1596\n",
      "Epoch 20/100\n",
      "131/131 [==============================] - 0s 884us/step - loss: 0.0254 - root_mean_squared_error: 0.1594\n",
      "Epoch 21/100\n",
      "131/131 [==============================] - 0s 910us/step - loss: 0.0255 - root_mean_squared_error: 0.1596\n",
      "Epoch 22/100\n",
      "131/131 [==============================] - 0s 937us/step - loss: 0.0252 - root_mean_squared_error: 0.1588\n",
      "Epoch 23/100\n",
      "131/131 [==============================] - 0s 1ms/step - loss: 0.0253 - root_mean_squared_error: 0.1591\n",
      "Epoch 24/100\n",
      "131/131 [==============================] - 0s 937us/step - loss: 0.0251 - root_mean_squared_error: 0.1584\n",
      "Epoch 25/100\n",
      "131/131 [==============================] - 0s 1ms/step - loss: 0.0251 - root_mean_squared_error: 0.1583\n",
      "Epoch 26/100\n",
      "131/131 [==============================] - 0s 1ms/step - loss: 0.0250 - root_mean_squared_error: 0.1581\n",
      "Epoch 27/100\n",
      "131/131 [==============================] - 0s 990us/step - loss: 0.0250 - root_mean_squared_error: 0.1580\n",
      "Epoch 28/100\n",
      "131/131 [==============================] - 0s 967us/step - loss: 0.0248 - root_mean_squared_error: 0.1576\n",
      "Epoch 29/100\n",
      "131/131 [==============================] - 0s 1ms/step - loss: 0.0248 - root_mean_squared_error: 0.1576\n",
      "Epoch 30/100\n",
      "131/131 [==============================] - 0s 981us/step - loss: 0.0248 - root_mean_squared_error: 0.1574\n",
      "Epoch 31/100\n",
      "131/131 [==============================] - 0s 936us/step - loss: 0.0247 - root_mean_squared_error: 0.1571\n",
      "Epoch 32/100\n",
      "131/131 [==============================] - 0s 909us/step - loss: 0.0246 - root_mean_squared_error: 0.1569\n",
      "Epoch 33/100\n",
      "131/131 [==============================] - 0s 920us/step - loss: 0.0247 - root_mean_squared_error: 0.1572\n",
      "Epoch 34/100\n",
      "131/131 [==============================] - 0s 940us/step - loss: 0.0245 - root_mean_squared_error: 0.1565\n",
      "Epoch 35/100\n",
      "131/131 [==============================] - 0s 956us/step - loss: 0.0245 - root_mean_squared_error: 0.1565\n",
      "Epoch 36/100\n",
      "131/131 [==============================] - 0s 1ms/step - loss: 0.0245 - root_mean_squared_error: 0.1566\n",
      "Epoch 37/100\n",
      "131/131 [==============================] - 0s 914us/step - loss: 0.0245 - root_mean_squared_error: 0.1566\n",
      "Epoch 38/100\n",
      "131/131 [==============================] - 0s 984us/step - loss: 0.0244 - root_mean_squared_error: 0.1563\n",
      "Epoch 39/100\n",
      "131/131 [==============================] - 0s 994us/step - loss: 0.0244 - root_mean_squared_error: 0.1563\n",
      "Epoch 40/100\n",
      "131/131 [==============================] - 0s 908us/step - loss: 0.0244 - root_mean_squared_error: 0.1561\n",
      "Epoch 41/100\n",
      "131/131 [==============================] - 0s 913us/step - loss: 0.0243 - root_mean_squared_error: 0.1558\n",
      "Epoch 42/100\n",
      "131/131 [==============================] - 0s 981us/step - loss: 0.0243 - root_mean_squared_error: 0.1559\n",
      "Epoch 43/100\n",
      "131/131 [==============================] - 0s 981us/step - loss: 0.0242 - root_mean_squared_error: 0.1557\n",
      "Epoch 44/100\n",
      "131/131 [==============================] - 0s 1ms/step - loss: 0.0243 - root_mean_squared_error: 0.1558\n",
      "Epoch 45/100\n",
      "131/131 [==============================] - 0s 1ms/step - loss: 0.0242 - root_mean_squared_error: 0.1555\n",
      "Epoch 46/100\n",
      "131/131 [==============================] - 0s 1ms/step - loss: 0.0242 - root_mean_squared_error: 0.1554\n",
      "Epoch 47/100\n",
      "131/131 [==============================] - 0s 901us/step - loss: 0.0242 - root_mean_squared_error: 0.1556\n",
      "Epoch 48/100\n",
      "131/131 [==============================] - 0s 930us/step - loss: 0.0241 - root_mean_squared_error: 0.1553\n",
      "Epoch 49/100\n",
      "131/131 [==============================] - 0s 1ms/step - loss: 0.0241 - root_mean_squared_error: 0.1553\n",
      "Epoch 50/100\n",
      "131/131 [==============================] - 0s 988us/step - loss: 0.0242 - root_mean_squared_error: 0.1555\n",
      "Epoch 51/100\n",
      "131/131 [==============================] - 0s 858us/step - loss: 0.0241 - root_mean_squared_error: 0.1552\n",
      "Epoch 52/100\n",
      "131/131 [==============================] - 0s 897us/step - loss: 0.0242 - root_mean_squared_error: 0.1556\n",
      "Epoch 53/100\n",
      "131/131 [==============================] - 0s 931us/step - loss: 0.0241 - root_mean_squared_error: 0.1554\n",
      "Epoch 54/100\n",
      "131/131 [==============================] - 0s 916us/step - loss: 0.0240 - root_mean_squared_error: 0.1549\n",
      "Epoch 55/100\n",
      "131/131 [==============================] - 0s 924us/step - loss: 0.0240 - root_mean_squared_error: 0.1550\n",
      "Epoch 56/100\n",
      "131/131 [==============================] - 0s 966us/step - loss: 0.0241 - root_mean_squared_error: 0.1553\n",
      "Epoch 57/100\n",
      "131/131 [==============================] - 0s 881us/step - loss: 0.0240 - root_mean_squared_error: 0.1549\n",
      "Epoch 58/100\n",
      "131/131 [==============================] - 0s 976us/step - loss: 0.0240 - root_mean_squared_error: 0.1549\n",
      "Epoch 59/100\n",
      "131/131 [==============================] - 0s 945us/step - loss: 0.0240 - root_mean_squared_error: 0.1548\n",
      "Epoch 60/100\n",
      "131/131 [==============================] - 0s 945us/step - loss: 0.0240 - root_mean_squared_error: 0.1548\n",
      "Epoch 61/100\n",
      "131/131 [==============================] - 0s 909us/step - loss: 0.0240 - root_mean_squared_error: 0.1550\n",
      "Epoch 62/100\n",
      "131/131 [==============================] - 0s 970us/step - loss: 0.0239 - root_mean_squared_error: 0.1547\n",
      "Epoch 63/100\n",
      "131/131 [==============================] - 0s 976us/step - loss: 0.0240 - root_mean_squared_error: 0.1548\n",
      "Epoch 64/100\n",
      "131/131 [==============================] - 0s 919us/step - loss: 0.0240 - root_mean_squared_error: 0.1548\n",
      "Epoch 65/100\n",
      "131/131 [==============================] - 0s 952us/step - loss: 0.0241 - root_mean_squared_error: 0.1552\n",
      "Epoch 66/100\n",
      "131/131 [==============================] - 0s 1ms/step - loss: 0.0240 - root_mean_squared_error: 0.1548\n",
      "Epoch 67/100\n",
      "131/131 [==============================] - 0s 1ms/step - loss: 0.0239 - root_mean_squared_error: 0.1547\n",
      "Epoch 68/100\n",
      "131/131 [==============================] - 0s 942us/step - loss: 0.0240 - root_mean_squared_error: 0.1549\n",
      "Epoch 69/100\n",
      "131/131 [==============================] - 0s 911us/step - loss: 0.0240 - root_mean_squared_error: 0.1548\n",
      "Epoch 70/100\n",
      "131/131 [==============================] - 0s 965us/step - loss: 0.0240 - root_mean_squared_error: 0.1550\n",
      "Epoch 71/100\n",
      "131/131 [==============================] - 0s 1ms/step - loss: 0.0239 - root_mean_squared_error: 0.1547\n",
      "Epoch 72/100\n",
      "131/131 [==============================] - 0s 945us/step - loss: 0.0239 - root_mean_squared_error: 0.1544\n",
      "Epoch 73/100\n",
      "131/131 [==============================] - 0s 1ms/step - loss: 0.0239 - root_mean_squared_error: 0.1546\n",
      "Epoch 74/100\n",
      "131/131 [==============================] - 0s 877us/step - loss: 0.0239 - root_mean_squared_error: 0.1545\n",
      "Epoch 75/100\n",
      "131/131 [==============================] - 0s 979us/step - loss: 0.0239 - root_mean_squared_error: 0.1545\n",
      "Epoch 76/100\n",
      "131/131 [==============================] - 0s 989us/step - loss: 0.0239 - root_mean_squared_error: 0.1545\n",
      "Epoch 77/100\n",
      "131/131 [==============================] - 0s 926us/step - loss: 0.0239 - root_mean_squared_error: 0.1547\n",
      "Epoch 78/100\n",
      "131/131 [==============================] - 0s 898us/step - loss: 0.0238 - root_mean_squared_error: 0.1544\n",
      "Epoch 79/100\n",
      "131/131 [==============================] - 0s 977us/step - loss: 0.0238 - root_mean_squared_error: 0.1544\n",
      "Epoch 80/100\n",
      "131/131 [==============================] - 0s 1ms/step - loss: 0.0239 - root_mean_squared_error: 0.1547\n",
      "Epoch 81/100\n",
      "131/131 [==============================] - 0s 915us/step - loss: 0.0239 - root_mean_squared_error: 0.1546\n",
      "Epoch 82/100\n",
      "131/131 [==============================] - 0s 971us/step - loss: 0.0239 - root_mean_squared_error: 0.1546\n",
      "Epoch 83/100\n",
      "131/131 [==============================] - 0s 1ms/step - loss: 0.0238 - root_mean_squared_error: 0.1544\n",
      "Epoch 84/100\n",
      "131/131 [==============================] - 0s 1ms/step - loss: 0.0239 - root_mean_squared_error: 0.1545\n",
      "Epoch 85/100\n",
      "131/131 [==============================] - 0s 975us/step - loss: 0.0239 - root_mean_squared_error: 0.1545\n",
      "Epoch 86/100\n",
      "131/131 [==============================] - 0s 1ms/step - loss: 0.0238 - root_mean_squared_error: 0.1543\n",
      "Epoch 87/100\n",
      "131/131 [==============================] - 0s 1ms/step - loss: 0.0239 - root_mean_squared_error: 0.1545\n",
      "Epoch 88/100\n",
      "131/131 [==============================] - 0s 1ms/step - loss: 0.0240 - root_mean_squared_error: 0.1548\n",
      "Epoch 89/100\n",
      "131/131 [==============================] - 0s 1ms/step - loss: 0.0238 - root_mean_squared_error: 0.1544\n",
      "Epoch 90/100\n",
      "131/131 [==============================] - 0s 1ms/step - loss: 0.0239 - root_mean_squared_error: 0.1546\n",
      "Epoch 91/100\n",
      "131/131 [==============================] - 0s 918us/step - loss: 0.0238 - root_mean_squared_error: 0.1543\n",
      "Epoch 92/100\n",
      "131/131 [==============================] - 0s 1ms/step - loss: 0.0240 - root_mean_squared_error: 0.1550\n",
      "Epoch 93/100\n",
      "131/131 [==============================] - 0s 1ms/step - loss: 0.0239 - root_mean_squared_error: 0.1545\n",
      "Epoch 94/100\n",
      "131/131 [==============================] - 0s 933us/step - loss: 0.0239 - root_mean_squared_error: 0.1547\n",
      "Epoch 95/100\n",
      "131/131 [==============================] - 0s 1ms/step - loss: 0.0239 - root_mean_squared_error: 0.1547\n",
      "Epoch 96/100\n",
      "131/131 [==============================] - 0s 1ms/step - loss: 0.0239 - root_mean_squared_error: 0.1547\n",
      "Epoch 97/100\n",
      "131/131 [==============================] - 0s 1ms/step - loss: 0.0240 - root_mean_squared_error: 0.1550\n",
      "Epoch 98/100\n",
      "131/131 [==============================] - 0s 1ms/step - loss: 0.0238 - root_mean_squared_error: 0.1543\n",
      "Epoch 99/100\n",
      "131/131 [==============================] - 0s 1ms/step - loss: 0.0237 - root_mean_squared_error: 0.1541\n",
      "Epoch 100/100\n",
      "131/131 [==============================] - 0s 988us/step - loss: 0.0239 - root_mean_squared_error: 0.1546\n"
     ]
    },
    {
     "data": {
      "application/vnd.plotly.v1+json": {
       "config": {
        "plotlyServerURL": "https://plot.ly"
       },
       "data": [
        {
         "hovertemplate": "Erro Metric=RMSE<br>Epoch=%{x}<br>Root Mean Squared value=%{y}<extra></extra>",
         "legendgroup": "RMSE",
         "line": {
          "color": "#636efa",
          "dash": "solid"
         },
         "mode": "lines",
         "name": "RMSE",
         "orientation": "v",
         "showlegend": true,
         "type": "scatter",
         "x": [
          0,
          1,
          2,
          3,
          4,
          5,
          6,
          7,
          8,
          9,
          10,
          11,
          12,
          13,
          14,
          15,
          16,
          17,
          18,
          19,
          20,
          21,
          22,
          23,
          24,
          25,
          26,
          27,
          28,
          29,
          30,
          31,
          32,
          33,
          34,
          35,
          36,
          37,
          38,
          39,
          40,
          41,
          42,
          43,
          44,
          45,
          46,
          47,
          48,
          49,
          50,
          51,
          52,
          53,
          54,
          55,
          56,
          57,
          58,
          59,
          60,
          61,
          62,
          63,
          64,
          65,
          66,
          67,
          68,
          69,
          70,
          71,
          72,
          73,
          74,
          75,
          76,
          77,
          78,
          79,
          80,
          81,
          82,
          83,
          84,
          85,
          86,
          87,
          88,
          89,
          90,
          91,
          92,
          93,
          94,
          95,
          96,
          97,
          98,
          99
         ],
         "xaxis": "x",
         "y": [
          0.32557836174964905,
          0.18722909688949585,
          0.16859543323516846,
          0.16646817326545715,
          0.16589994728565216,
          0.16513431072235107,
          0.16461414098739624,
          0.16398440301418304,
          0.1633993536233902,
          0.1628764122724533,
          0.1625254601240158,
          0.1622052639722824,
          0.16153478622436523,
          0.1613292247056961,
          0.16109983623027802,
          0.160476416349411,
          0.16046053171157837,
          0.15958274900913239,
          0.15962202847003937,
          0.15942233800888062,
          0.1596389263868332,
          0.1587732881307602,
          0.15908147394657135,
          0.15840408205986023,
          0.158286914229393,
          0.1580818146467209,
          0.1580212265253067,
          0.15762881934642792,
          0.15756529569625854,
          0.15741552412509918,
          0.15712769329547882,
          0.15688998997211456,
          0.15718501806259155,
          0.15652824938297272,
          0.15646882355213165,
          0.15664169192314148,
          0.15658865869045258,
          0.15627329051494598,
          0.15627017617225647,
          0.15609338879585266,
          0.15575578808784485,
          0.15587425231933594,
          0.15570953488349915,
          0.1557699292898178,
          0.15548230707645416,
          0.1554422527551651,
          0.15557289123535156,
          0.15533658862113953,
          0.1553402990102768,
          0.15554049611091614,
          0.1551920473575592,
          0.15557898581027985,
          0.15539346635341644,
          0.15485897660255432,
          0.1550157219171524,
          0.15529899299144745,
          0.15486758947372437,
          0.15489725768566132,
          0.1547788381576538,
          0.15479154884815216,
          0.15503975749015808,
          0.15470881760120392,
          0.1548464000225067,
          0.1548084169626236,
          0.15516994893550873,
          0.15478570759296417,
          0.15467369556427002,
          0.1549312323331833,
          0.15481622517108917,
          0.15499652922153473,
          0.1547117680311203,
          0.15444855391979218,
          0.15463991463184357,
          0.15447334945201874,
          0.15452928841114044,
          0.15450170636177063,
          0.15473298728466034,
          0.15443259477615356,
          0.15442949533462524,
          0.15471681952476501,
          0.1545601338148117,
          0.15463590621948242,
          0.15441900491714478,
          0.1545005589723587,
          0.15451151132583618,
          0.1543349176645279,
          0.15447372198104858,
          0.1547674536705017,
          0.15436741709709167,
          0.15455284714698792,
          0.15433016419410706,
          0.1550036519765854,
          0.15447527170181274,
          0.15465213358402252,
          0.15470659732818604,
          0.1546650528907776,
          0.15495678782463074,
          0.15425492823123932,
          0.1540597528219223,
          0.1546366959810257
         ],
         "yaxis": "y"
        }
       ],
       "layout": {
        "autosize": true,
        "legend": {
         "title": {
          "text": "Erro Metric"
         },
         "tracegroupgap": 0
        },
        "template": {
         "data": {
          "bar": [
           {
            "error_x": {
             "color": "#2a3f5f"
            },
            "error_y": {
             "color": "#2a3f5f"
            },
            "marker": {
             "line": {
              "color": "#E5ECF6",
              "width": 0.5
             },
             "pattern": {
              "fillmode": "overlay",
              "size": 10,
              "solidity": 0.2
             }
            },
            "type": "bar"
           }
          ],
          "barpolar": [
           {
            "marker": {
             "line": {
              "color": "#E5ECF6",
              "width": 0.5
             },
             "pattern": {
              "fillmode": "overlay",
              "size": 10,
              "solidity": 0.2
             }
            },
            "type": "barpolar"
           }
          ],
          "carpet": [
           {
            "aaxis": {
             "endlinecolor": "#2a3f5f",
             "gridcolor": "white",
             "linecolor": "white",
             "minorgridcolor": "white",
             "startlinecolor": "#2a3f5f"
            },
            "baxis": {
             "endlinecolor": "#2a3f5f",
             "gridcolor": "white",
             "linecolor": "white",
             "minorgridcolor": "white",
             "startlinecolor": "#2a3f5f"
            },
            "type": "carpet"
           }
          ],
          "choropleth": [
           {
            "colorbar": {
             "outlinewidth": 0,
             "ticks": ""
            },
            "type": "choropleth"
           }
          ],
          "contour": [
           {
            "colorbar": {
             "outlinewidth": 0,
             "ticks": ""
            },
            "colorscale": [
             [
              0,
              "#0d0887"
             ],
             [
              0.1111111111111111,
              "#46039f"
             ],
             [
              0.2222222222222222,
              "#7201a8"
             ],
             [
              0.3333333333333333,
              "#9c179e"
             ],
             [
              0.4444444444444444,
              "#bd3786"
             ],
             [
              0.5555555555555556,
              "#d8576b"
             ],
             [
              0.6666666666666666,
              "#ed7953"
             ],
             [
              0.7777777777777778,
              "#fb9f3a"
             ],
             [
              0.8888888888888888,
              "#fdca26"
             ],
             [
              1,
              "#f0f921"
             ]
            ],
            "type": "contour"
           }
          ],
          "contourcarpet": [
           {
            "colorbar": {
             "outlinewidth": 0,
             "ticks": ""
            },
            "type": "contourcarpet"
           }
          ],
          "heatmap": [
           {
            "colorbar": {
             "outlinewidth": 0,
             "ticks": ""
            },
            "colorscale": [
             [
              0,
              "#0d0887"
             ],
             [
              0.1111111111111111,
              "#46039f"
             ],
             [
              0.2222222222222222,
              "#7201a8"
             ],
             [
              0.3333333333333333,
              "#9c179e"
             ],
             [
              0.4444444444444444,
              "#bd3786"
             ],
             [
              0.5555555555555556,
              "#d8576b"
             ],
             [
              0.6666666666666666,
              "#ed7953"
             ],
             [
              0.7777777777777778,
              "#fb9f3a"
             ],
             [
              0.8888888888888888,
              "#fdca26"
             ],
             [
              1,
              "#f0f921"
             ]
            ],
            "type": "heatmap"
           }
          ],
          "heatmapgl": [
           {
            "colorbar": {
             "outlinewidth": 0,
             "ticks": ""
            },
            "colorscale": [
             [
              0,
              "#0d0887"
             ],
             [
              0.1111111111111111,
              "#46039f"
             ],
             [
              0.2222222222222222,
              "#7201a8"
             ],
             [
              0.3333333333333333,
              "#9c179e"
             ],
             [
              0.4444444444444444,
              "#bd3786"
             ],
             [
              0.5555555555555556,
              "#d8576b"
             ],
             [
              0.6666666666666666,
              "#ed7953"
             ],
             [
              0.7777777777777778,
              "#fb9f3a"
             ],
             [
              0.8888888888888888,
              "#fdca26"
             ],
             [
              1,
              "#f0f921"
             ]
            ],
            "type": "heatmapgl"
           }
          ],
          "histogram": [
           {
            "marker": {
             "pattern": {
              "fillmode": "overlay",
              "size": 10,
              "solidity": 0.2
             }
            },
            "type": "histogram"
           }
          ],
          "histogram2d": [
           {
            "colorbar": {
             "outlinewidth": 0,
             "ticks": ""
            },
            "colorscale": [
             [
              0,
              "#0d0887"
             ],
             [
              0.1111111111111111,
              "#46039f"
             ],
             [
              0.2222222222222222,
              "#7201a8"
             ],
             [
              0.3333333333333333,
              "#9c179e"
             ],
             [
              0.4444444444444444,
              "#bd3786"
             ],
             [
              0.5555555555555556,
              "#d8576b"
             ],
             [
              0.6666666666666666,
              "#ed7953"
             ],
             [
              0.7777777777777778,
              "#fb9f3a"
             ],
             [
              0.8888888888888888,
              "#fdca26"
             ],
             [
              1,
              "#f0f921"
             ]
            ],
            "type": "histogram2d"
           }
          ],
          "histogram2dcontour": [
           {
            "colorbar": {
             "outlinewidth": 0,
             "ticks": ""
            },
            "colorscale": [
             [
              0,
              "#0d0887"
             ],
             [
              0.1111111111111111,
              "#46039f"
             ],
             [
              0.2222222222222222,
              "#7201a8"
             ],
             [
              0.3333333333333333,
              "#9c179e"
             ],
             [
              0.4444444444444444,
              "#bd3786"
             ],
             [
              0.5555555555555556,
              "#d8576b"
             ],
             [
              0.6666666666666666,
              "#ed7953"
             ],
             [
              0.7777777777777778,
              "#fb9f3a"
             ],
             [
              0.8888888888888888,
              "#fdca26"
             ],
             [
              1,
              "#f0f921"
             ]
            ],
            "type": "histogram2dcontour"
           }
          ],
          "mesh3d": [
           {
            "colorbar": {
             "outlinewidth": 0,
             "ticks": ""
            },
            "type": "mesh3d"
           }
          ],
          "parcoords": [
           {
            "line": {
             "colorbar": {
              "outlinewidth": 0,
              "ticks": ""
             }
            },
            "type": "parcoords"
           }
          ],
          "pie": [
           {
            "automargin": true,
            "type": "pie"
           }
          ],
          "scatter": [
           {
            "marker": {
             "colorbar": {
              "outlinewidth": 0,
              "ticks": ""
             }
            },
            "type": "scatter"
           }
          ],
          "scatter3d": [
           {
            "line": {
             "colorbar": {
              "outlinewidth": 0,
              "ticks": ""
             }
            },
            "marker": {
             "colorbar": {
              "outlinewidth": 0,
              "ticks": ""
             }
            },
            "type": "scatter3d"
           }
          ],
          "scattercarpet": [
           {
            "marker": {
             "colorbar": {
              "outlinewidth": 0,
              "ticks": ""
             }
            },
            "type": "scattercarpet"
           }
          ],
          "scattergeo": [
           {
            "marker": {
             "colorbar": {
              "outlinewidth": 0,
              "ticks": ""
             }
            },
            "type": "scattergeo"
           }
          ],
          "scattergl": [
           {
            "marker": {
             "colorbar": {
              "outlinewidth": 0,
              "ticks": ""
             }
            },
            "type": "scattergl"
           }
          ],
          "scattermapbox": [
           {
            "marker": {
             "colorbar": {
              "outlinewidth": 0,
              "ticks": ""
             }
            },
            "type": "scattermapbox"
           }
          ],
          "scatterpolar": [
           {
            "marker": {
             "colorbar": {
              "outlinewidth": 0,
              "ticks": ""
             }
            },
            "type": "scatterpolar"
           }
          ],
          "scatterpolargl": [
           {
            "marker": {
             "colorbar": {
              "outlinewidth": 0,
              "ticks": ""
             }
            },
            "type": "scatterpolargl"
           }
          ],
          "scatterternary": [
           {
            "marker": {
             "colorbar": {
              "outlinewidth": 0,
              "ticks": ""
             }
            },
            "type": "scatterternary"
           }
          ],
          "surface": [
           {
            "colorbar": {
             "outlinewidth": 0,
             "ticks": ""
            },
            "colorscale": [
             [
              0,
              "#0d0887"
             ],
             [
              0.1111111111111111,
              "#46039f"
             ],
             [
              0.2222222222222222,
              "#7201a8"
             ],
             [
              0.3333333333333333,
              "#9c179e"
             ],
             [
              0.4444444444444444,
              "#bd3786"
             ],
             [
              0.5555555555555556,
              "#d8576b"
             ],
             [
              0.6666666666666666,
              "#ed7953"
             ],
             [
              0.7777777777777778,
              "#fb9f3a"
             ],
             [
              0.8888888888888888,
              "#fdca26"
             ],
             [
              1,
              "#f0f921"
             ]
            ],
            "type": "surface"
           }
          ],
          "table": [
           {
            "cells": {
             "fill": {
              "color": "#EBF0F8"
             },
             "line": {
              "color": "white"
             }
            },
            "header": {
             "fill": {
              "color": "#C8D4E3"
             },
             "line": {
              "color": "white"
             }
            },
            "type": "table"
           }
          ]
         },
         "layout": {
          "annotationdefaults": {
           "arrowcolor": "#2a3f5f",
           "arrowhead": 0,
           "arrowwidth": 1
          },
          "autotypenumbers": "strict",
          "coloraxis": {
           "colorbar": {
            "outlinewidth": 0,
            "ticks": ""
           }
          },
          "colorscale": {
           "diverging": [
            [
             0,
             "#8e0152"
            ],
            [
             0.1,
             "#c51b7d"
            ],
            [
             0.2,
             "#de77ae"
            ],
            [
             0.3,
             "#f1b6da"
            ],
            [
             0.4,
             "#fde0ef"
            ],
            [
             0.5,
             "#f7f7f7"
            ],
            [
             0.6,
             "#e6f5d0"
            ],
            [
             0.7,
             "#b8e186"
            ],
            [
             0.8,
             "#7fbc41"
            ],
            [
             0.9,
             "#4d9221"
            ],
            [
             1,
             "#276419"
            ]
           ],
           "sequential": [
            [
             0,
             "#0d0887"
            ],
            [
             0.1111111111111111,
             "#46039f"
            ],
            [
             0.2222222222222222,
             "#7201a8"
            ],
            [
             0.3333333333333333,
             "#9c179e"
            ],
            [
             0.4444444444444444,
             "#bd3786"
            ],
            [
             0.5555555555555556,
             "#d8576b"
            ],
            [
             0.6666666666666666,
             "#ed7953"
            ],
            [
             0.7777777777777778,
             "#fb9f3a"
            ],
            [
             0.8888888888888888,
             "#fdca26"
            ],
            [
             1,
             "#f0f921"
            ]
           ],
           "sequentialminus": [
            [
             0,
             "#0d0887"
            ],
            [
             0.1111111111111111,
             "#46039f"
            ],
            [
             0.2222222222222222,
             "#7201a8"
            ],
            [
             0.3333333333333333,
             "#9c179e"
            ],
            [
             0.4444444444444444,
             "#bd3786"
            ],
            [
             0.5555555555555556,
             "#d8576b"
            ],
            [
             0.6666666666666666,
             "#ed7953"
            ],
            [
             0.7777777777777778,
             "#fb9f3a"
            ],
            [
             0.8888888888888888,
             "#fdca26"
            ],
            [
             1,
             "#f0f921"
            ]
           ]
          },
          "colorway": [
           "#636efa",
           "#EF553B",
           "#00cc96",
           "#ab63fa",
           "#FFA15A",
           "#19d3f3",
           "#FF6692",
           "#B6E880",
           "#FF97FF",
           "#FECB52"
          ],
          "font": {
           "color": "#2a3f5f"
          },
          "geo": {
           "bgcolor": "white",
           "lakecolor": "white",
           "landcolor": "#E5ECF6",
           "showlakes": true,
           "showland": true,
           "subunitcolor": "white"
          },
          "hoverlabel": {
           "align": "left"
          },
          "hovermode": "closest",
          "mapbox": {
           "style": "light"
          },
          "paper_bgcolor": "white",
          "plot_bgcolor": "#E5ECF6",
          "polar": {
           "angularaxis": {
            "gridcolor": "white",
            "linecolor": "white",
            "ticks": ""
           },
           "bgcolor": "#E5ECF6",
           "radialaxis": {
            "gridcolor": "white",
            "linecolor": "white",
            "ticks": ""
           }
          },
          "scene": {
           "xaxis": {
            "backgroundcolor": "#E5ECF6",
            "gridcolor": "white",
            "gridwidth": 2,
            "linecolor": "white",
            "showbackground": true,
            "ticks": "",
            "zerolinecolor": "white"
           },
           "yaxis": {
            "backgroundcolor": "#E5ECF6",
            "gridcolor": "white",
            "gridwidth": 2,
            "linecolor": "white",
            "showbackground": true,
            "ticks": "",
            "zerolinecolor": "white"
           },
           "zaxis": {
            "backgroundcolor": "#E5ECF6",
            "gridcolor": "white",
            "gridwidth": 2,
            "linecolor": "white",
            "showbackground": true,
            "ticks": "",
            "zerolinecolor": "white"
           }
          },
          "shapedefaults": {
           "line": {
            "color": "#2a3f5f"
           }
          },
          "ternary": {
           "aaxis": {
            "gridcolor": "white",
            "linecolor": "white",
            "ticks": ""
           },
           "baxis": {
            "gridcolor": "white",
            "linecolor": "white",
            "ticks": ""
           },
           "bgcolor": "#E5ECF6",
           "caxis": {
            "gridcolor": "white",
            "linecolor": "white",
            "ticks": ""
           }
          },
          "title": {
           "x": 0.05
          },
          "xaxis": {
           "automargin": true,
           "gridcolor": "white",
           "linecolor": "white",
           "ticks": "",
           "title": {
            "standoff": 15
           },
           "zerolinecolor": "white",
           "zerolinewidth": 2
          },
          "yaxis": {
           "automargin": true,
           "gridcolor": "white",
           "linecolor": "white",
           "ticks": "",
           "title": {
            "standoff": 15
           },
           "zerolinecolor": "white",
           "zerolinewidth": 2
          }
         }
        },
        "title": {
         "text": "Error accros training"
        },
        "xaxis": {
         "anchor": "y",
         "autorange": true,
         "domain": [
          0,
          1
         ],
         "range": [
          0,
          99
         ],
         "title": {
          "text": "Epoch"
         },
         "type": "linear"
        },
        "yaxis": {
         "anchor": "x",
         "autorange": true,
         "domain": [
          0,
          1
         ],
         "range": [
          0.14453094121482638,
          0.335107173356745
         ],
         "title": {
          "text": "Root Mean Squared value"
         },
         "type": "linear"
        }
       }
      },
      "image/png": "[encoded data removed]"
     },
     "metadata": {},
     "output_type": "display_data"
    }
   ],
   "source": [
    "df = pd.read_pickle('explore.pkl')\n",
    "\n",
    "WindForecaster = WindForecaster(df=df,\n",
    "                                test_size=216,\n",
    "                                prediction_window=4,\n",
    "                                forecast_delay=2,\n",
    "                                forecast_size=1,\n",
    "                                activation_function='tanh',\n",
    "                                loss_metric=\"mean_squared_error\",\n",
    "                                optimizer=\"adam\")\n",
    "\n",
    "train = WindForecaster.train(batch_size = 4, epochs = 100)"
   ]
  },
  {
   "cell_type": "markdown",
   "id": "b07b9b2c-844c-4fcc-9ad1-8b5b98081d11",
   "metadata": {},
   "source": [
    "### Exporting the Trained Model \n",
    "\n",
    "Once trained it is important to export the trained model. Which will allow forecasting latter without the necessity of retraining it."
   ]
  },
  {
   "cell_type": "code",
   "execution_count": null,
   "id": "ad627219-0892-4b01-990f-c8cc2c99b79d",
   "metadata": {},
   "outputs": [],
   "source": [
    "WindForecaster.model.save('model')\n",
    "np.save('trainX', WindForecaster.train_X)\n",
    "np.save('trainY', WindForecaster.train_Y)\n",
    "np.save('testX', WindForecaster.test_X)\n",
    "np.save('testY', WindForecaster.test_Y)\n",
    "WindForecaster.dataset.to_pickle('prep.pkl')"
   ]
  }
 ],
 "metadata": {
  "kernelspec": {
   "display_name": "Python 3.8.6 64-bit ('.venv': poetry)",
   "language": "python",
   "name": "python386jvsc74a57bd09ae24440891ded0db606359acf18939257a6957a5b3646e0051971e5435b1274"
  },
  "language_info": {
   "codemirror_mode": {
    "name": "ipython",
    "version": 3
   },
   "file_extension": ".py",
   "mimetype": "text/x-python",
   "name": "python",
   "nbconvert_exporter": "python",
   "pygments_lexer": "ipython3",
   "version": "3.8.6"
  }
 },
 "nbformat": 4,
 "nbformat_minor": 5
}
