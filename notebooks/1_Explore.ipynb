{
 "cells": [
  {
   "cell_type": "markdown",
   "metadata": {},
   "source": [
    "# Data Exploration\n",
    "\n",
    "This is the **first** notebook of the analysis.\n",
    "\n",
    "> Make sure you have executed the previous one [0_Cover.ipynb](0_Cover.ipynb), otherwise the packages might fail.\n",
    "---"
   ]
  },
  {
   "cell_type": "markdown",
   "metadata": {},
   "source": [
    "# Objective\n",
    "\n",
    "Before jumping into modeling, it is very important to explore the data. The following cells will load the necessary packages and perform a Exploratory Data Analysis on it.\n",
    "\n",
    "At the end, a dataset will be pickled into a compressed file, which will be later used in the next processes (Preparation, Train and Forecast)"
   ]
  },
  {
   "cell_type": "code",
   "execution_count": null,
   "metadata": {},
   "outputs": [],
   "source": [
    "import pandas as pd\n",
    "import plotly.express as px\n",
    "import plotly.graph_objs as go\n",
    "from plotly.subplots import make_subplots\n",
    "\n",
    "pd.set_option('display.max_columns', None)"
   ]
  },
  {
   "cell_type": "markdown",
   "metadata": {},
   "source": [
    "---"
   ]
  },
  {
   "cell_type": "markdown",
   "metadata": {},
   "source": [
    "# Wind Time Series\n",
    "\n",
    "This project uses a wind time series provided by the professor. The data comes in a columnar format, where each record shows the hourly wind-speed for a series of days. The table below depicts the table format:\n",
    "\n",
    "Column Index|Format             |Description\n",
    "------------|-------------------|-----------------------\n",
    "1           | $$0<hour<=23$$    | Hour reference\n",
    "2           | $$1<day<=31$$     | First day of the series\n",
    ".           |        .          | $n_{th}$ day of the series\n",
    "31          | $$1<day<=31$$     | Last day of the series\n",
    "\n",
    "The cell below loads the dataset."
   ]
  },
  {
   "cell_type": "code",
   "execution_count": null,
   "metadata": {},
   "outputs": [],
   "source": [
    "file_id = \"1JIk-xFfeL-uTNtkCbOERjko3ovM0EF18\"\n",
    "file_url='https://drive.google.com/uc?id={}'.format(file_id)\n",
    "df = pd.read_csv(file_url)\n",
    "df.head()"
   ]
  },
  {
   "cell_type": "markdown",
   "metadata": {},
   "source": [
    "---"
   ]
  },
  {
   "cell_type": "markdown",
   "metadata": {},
   "source": [
    "# Feature Analysis\n",
    "\n",
    "Altough the provided dataset could be reshaped into a \"single feature\" dataset, with wind speed as the only feature. It could be interesting to investigate how wind velocity behaves for every hour of the day. The table below shows how the wind speed was recorded.\n",
    "\n",
    "Index       | Feature   | Format  | Description\n",
    "------------|-----------|-------- |------------------\n",
    "1           | hour      | `int`   | record hour\n",
    "2           | day1      | `float` | record wind speed\n",
    "3           | day2      | `float` | record wind speed\n",
    ".           |  .        |    .    | .\n",
    "32          | day31     | `float` | record wind speed\n",
    "\n",
    "A visual analysis of the wind speed behaviour will be conducted in the next cells using multiple plots. In order to do that, the following steps were taken\n",
    "\n",
    " - Rename and index the dataset so it becomes easier to use for investigation.\n",
    " - Plot the records grouped by hour or day.\n",
    " - Plot the main statistical values of the dataset."
   ]
  },
  {
   "cell_type": "markdown",
   "metadata": {},
   "source": [
    "## Preparing the dataset"
   ]
  },
  {
   "cell_type": "code",
   "execution_count": null,
   "metadata": {},
   "outputs": [],
   "source": [
    "df.rename(columns=lambda x: x.replace('day', ''), inplace=True)\n",
    "df.set_index('hour', inplace=True)\n",
    "df.head()"
   ]
  },
  {
   "cell_type": "markdown",
   "metadata": {},
   "source": [
    "## Ploting the records\n",
    "\n",
    "Thanks to the `plotly` package and this notebook, we can now plot the records in an interactively way."
   ]
  },
  {
   "cell_type": "code",
   "execution_count": null,
   "metadata": {},
   "outputs": [],
   "source": [
    "daily_fig = px.line(df.T, title=\"Wind speed time series\")\n",
    "hourly_fig = px.line(df, title=\"Wind speed time series\")\n",
    "    \n",
    "fig = make_subplots(rows=2, cols=1, subplot_titles=(\"Hourly Grouped\", \"Daily Grouped\"))\n",
    "fig.update_layout(height=600, showlegend=False, title_text=\"Wind Speed Time Series\")\n",
    "\n",
    "for trace in hourly_fig['data']:\n",
    "    fig.add_trace(trace, row=1, col=1)\n",
    "for trace in daily_fig['data']:\n",
    "    fig.add_trace(trace, row=2, col=1)\n",
    "    \n",
    "fig.update_xaxes(title_text=\"Hours\", row=1, col=1)\n",
    "fig.update_xaxes(title_text=\"Days\", row=2, col=1)\n",
    "\n",
    "fig.update_yaxes(title_text=\"Wind speed (m/s)\", row=1, col=1)\n",
    "fig.update_yaxes(title_text=\"Wind speed (m/s)\", row=2, col=1)\n",
    "    \n",
    "fig.show()"
   ]
  },
  {
   "cell_type": "markdown",
   "metadata": {},
   "source": [
    "### **Notes**\n",
    "\n",
    "The records already show that, even though the wind behaviour is the same, observing it from a diferent time perspective might be a good way to find correlations.\n",
    "\n",
    "Another thing that becomes clear is that, ploting the records alone is not suficient to understand the statistical behaviour of the feature. The next cells addresses this issue "
   ]
  },
  {
   "cell_type": "markdown",
   "metadata": {},
   "source": [
    "## Statistical Behaviour\n",
    "\n",
    "> At this point it is important to highlight that we are dealing with a time series, because of that the main statistical measurements will be obtained from a \"point of view\". For example, if we observe the measurements grouped by hour, we would have 31 records for every hour (1 for each day), hence any statistical measure will be obtained regarding a sample of 31 measurements.\n",
    "\n",
    "### Mean, Standard Deviation and Box Plot Analysis\n",
    "\n",
    "The following cell creates a function used to plot the data using statistical calculations. Each plot contains two subplots. In the first one, the main objective is to observe the average wind speed from two diferent perspectives (daily or hourly). The second plot is a very powerfull statistical tool, the **Box Plot**, which allows the observation of important statistical measurements, such as the median values, the outliers and the quarters."
   ]
  },
  {
   "cell_type": "code",
   "execution_count": null,
   "metadata": {},
   "outputs": [],
   "source": [
    "def plot_graphs(df: pd.DataFrame, x_axis_title=str):\n",
    "    mean = go.Scatter(\n",
    "            name='Mean',\n",
    "            x=df.columns,\n",
    "            y=df.mean(),\n",
    "            mode='lines')\n",
    "    std1 = go.Scatter(\n",
    "            name='Upper',\n",
    "            x=df.columns,\n",
    "            y=df.mean()+df.std(),\n",
    "            mode='lines',\n",
    "            marker=dict(color=\"#444\"),\n",
    "            line=dict(width=0),\n",
    "            showlegend=False)\n",
    "    std2 = go.Scatter(\n",
    "            name='Lower',\n",
    "            x=df.columns,\n",
    "            y=df.mean()-df.std(),\n",
    "            marker=dict(color=\"#444\"),\n",
    "            line=dict(width=0),\n",
    "            mode='lines',\n",
    "            fillcolor='rgba(163, 172, 247, 0.3)',\n",
    "            fill='tonexty',\n",
    "            showlegend=False)\n",
    "\n",
    "    box_fig = px.box(df,labels={\"value\": \"Wind Velocity (m/s)\",\"hour\": \"Hour of the day\"})\n",
    "    box = box_fig['data'][0]\n",
    "    \n",
    "    \n",
    "    fig = make_subplots(rows=2, cols=1, subplot_titles=(\"Mean and Standard Deviation\", \"Box Plot\"), shared_yaxes=True)\n",
    "    fig.update_layout(height=600)\n",
    "    fig.add_trace(mean, row=1, col=1)\n",
    "    fig.add_trace(std1, row=1, col=1)\n",
    "    fig.add_trace(std2, row=1, col=1)\n",
    "    fig.add_trace(box, row=2, col=1)\n",
    "    \n",
    "    fig.update_xaxes(title_text=x_axis_title, row=1, col=1)\n",
    "    fig.update_xaxes(title_text=x_axis_title, row=2, col=1)\n",
    "    \n",
    "    fig.show()"
   ]
  },
  {
   "cell_type": "markdown",
   "metadata": {},
   "source": [
    "#### **Hourly Grouped**\n",
    "\n",
    "By transposing the dataset, we achieve a \"hourly\" point of view."
   ]
  },
  {
   "cell_type": "code",
   "execution_count": null,
   "metadata": {},
   "outputs": [],
   "source": [
    "plot_graphs(df=df.T.copy(), x_axis_title=\"Hours\")"
   ]
  },
  {
   "cell_type": "markdown",
   "metadata": {},
   "source": [
    "#### **Statistics**"
   ]
  },
  {
   "cell_type": "code",
   "execution_count": null,
   "metadata": {},
   "outputs": [],
   "source": [
    "statistics_df = df.T.describe()\n",
    "display(statistics_df.round(2))"
   ]
  },
  {
   "cell_type": "markdown",
   "metadata": {},
   "source": [
    "#### **Daily Grouped**"
   ]
  },
  {
   "cell_type": "code",
   "execution_count": null,
   "metadata": {},
   "outputs": [],
   "source": [
    "plot_graphs(df=df.copy(), x_axis_title=\"Days\")"
   ]
  },
  {
   "cell_type": "markdown",
   "metadata": {},
   "source": [
    "#### **Statistics**"
   ]
  },
  {
   "cell_type": "code",
   "execution_count": null,
   "metadata": {},
   "outputs": [],
   "source": [
    "statistics_df = df.describe()\n",
    "display(statistics_df.round(2))"
   ]
  },
  {
   "cell_type": "markdown",
   "metadata": {},
   "source": [
    "# Pickle Dataframe\n",
    "\n",
    "> This is the final step of this notebook.\n",
    "\n",
    "Once completed, the analysed dataframe should be pickled into a compressed file.\n",
    "\n",
    "This is a practice that allows the next Notebook to start from where this one left."
   ]
  },
  {
   "cell_type": "code",
   "execution_count": null,
   "metadata": {},
   "outputs": [],
   "source": [
    "df.to_pickle(\"explore.pkl\")"
   ]
  }
 ],
 "metadata": {
  "interpreter": {
   "hash": "9ae24440891ded0db606359acf18939257a6957a5b3646e0051971e5435b1274"
  },
  "kernelspec": {
   "display_name": "Python 3 (ipykernel)",
   "language": "python",
   "name": "python3"
  },
  "language_info": {
   "codemirror_mode": {
    "name": "ipython",
    "version": 3
   },
   "file_extension": ".py",
   "mimetype": "text/x-python",
   "name": "python",
   "nbconvert_exporter": "python",
   "pygments_lexer": "ipython3",
   "version": "3.8.6"
  }
 },
 "nbformat": 4,
 "nbformat_minor": 4
}
