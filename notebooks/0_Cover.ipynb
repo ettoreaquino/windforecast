{
 "cells": [
  {
   "cell_type": "markdown",
   "id": "6fd1d721-fa44-46a1-8d60-7ab54e948fbe",
   "metadata": {},
   "source": [
    "# Wind Forecasting model\n",
    "\n",
    "**Author:** [Ettore Aquino](https://github.com/ettoreaquino)<br>\n",
    "**Date created:** 2021/07/04<br>\n",
    "**Last modified:** 2021/07/05<br>\n",
    "**Description:** This data analysis is a work proposed by the Masters Course: _Tópicos Especiais em Otimização - Técnicas Inteligentes_, offered during the Masters of Science in Electrical Engineering at _Universidade Federal de Juiz de Fora_ (Brazil)<br>\n",
    "**Professor:** Dr. Leonardo Willer de Oliveira\n",
    "\n",
    "---"
   ]
  },
  {
   "cell_type": "markdown",
   "id": "88a0ef7d-c16c-4cf3-9b42-2a15a03e71c8",
   "metadata": {},
   "source": [
    "# Organization\n",
    "\n",
    "The analysis was organized in 4 notebooks. Each one has a very specific purpose:\n",
    "\n",
    " - [1_Explore.ipynb](1_Explore.ipynb)\n",
    " - [2_Prep.ipynb](2_Prep.ipynb)\n",
    " - [3_Train.ipynb](3_Train.ipynb)\n",
    " - [4_Forecast.ipynb](4_Forecast.ipynb)\n",
    " \n",
    " Each notebooks, when entirelly executed, leaves a `.pkl` file, which is used by the subsequent notebook.\n",
    " \n",
    " ---"
   ]
  },
  {
   "cell_type": "markdown",
   "id": "c0535334-d445-4314-ab1a-6a9070d7b68d",
   "metadata": {},
   "source": [
    "## Setup\n",
    "\n",
    "This project runs on a series of packages. But mainly on [Tensorflow](https://www.tensorflow.org/) and a special package called [Keras](https://keras.io/). Other commom packages, like [Pandas](https://pandas.pydata.org/), [Scikit-Learn](https://scikit-learn.org/stable/), [Plotly](https://plotly.com/) and [Matplotlib](https://matplotlib.org/) come in hand when preparing the data and visualizing the information being modeled.\n",
    "\n",
    " - **`Tensorflow`** is a Python machine learning library. Its name come from the fact that most of the machine learning models deal with _tensors_ and diferentiable programming. Because of that, usual data structures such as `arrays` and `dataframes` are not entirely effective, Tensorflow addresses this issue.\n",
    "\n",
    " - **`Keras`** is a python API, built on top of Tensorflow and specifically designed for Deep Learning (Deep Neural Networks).\n",
    "\n",
    "> In case you are running this notebook outside Google Colab, please make sure you have a Python enviroment with Tensorflow version ^2.5.0\n",
    "\n",
    "**Note**: In case you do not have a GPU set up on your machine, `tensorflow` might show a warning during import, which can be ignored.\n",
    "\n",
    "The next cell will setup the environment with the necessary packages."
   ]
  },
  {
   "cell_type": "code",
   "execution_count": null,
   "id": "aeae96ef-81d0-422d-89f5-e55efacabfba",
   "metadata": {},
   "outputs": [],
   "source": [
    "!pip install -q pandas\n",
    "!pip install -q plotly\n",
    "!pip install -q tensorflow\n",
    "!pip install -q scikit-learn"
   ]
  }
 ],
 "metadata": {
  "kernelspec": {
   "display_name": "Python 3.8.6 64-bit ('.venv': poetry)",
   "language": "python",
   "name": "python386jvsc74a57bd09ae24440891ded0db606359acf18939257a6957a5b3646e0051971e5435b1274"
  },
  "language_info": {
   "codemirror_mode": {
    "name": "ipython",
    "version": 3
   },
   "file_extension": ".py",
   "mimetype": "text/x-python",
   "name": "python",
   "nbconvert_exporter": "python",
   "pygments_lexer": "ipython3",
   "version": "3.8.6"
  }
 },
 "nbformat": 4,
 "nbformat_minor": 5
}
