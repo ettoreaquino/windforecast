{
 "cells": [
  {
   "cell_type": "markdown",
   "id": "2860572c-079b-4289-b918-b1834be78508",
   "metadata": {},
   "source": [
    "# Data Preparation\n",
    "\n",
    "This is the **second** notebook of the analysis.\n",
    "\n",
    "> Make sure you have executed the previous one [1_Explore.ipynb](1_Explore.ipynb), otherwise the packages might fail.\n",
    "---"
   ]
  },
  {
   "cell_type": "markdown",
   "id": "48eed459-ef25-47a3-a7ec-bcf2b4f9837c",
   "metadata": {},
   "source": [
    "# Objective\n",
    "\n",
    "After exploring the data. The following cells will prepare the dataset in a way that it could be consumed by a model.\n",
    "\n",
    "At the end, a dataset will be pickled into a compressed file, which will be later used in the next processes (Train and Forecast)"
   ]
  }
 ],
 "metadata": {
  "kernelspec": {
   "display_name": "Python 3.8.6 64-bit ('.venv': poetry)",
   "language": "python",
   "name": "python386jvsc74a57bd09ae24440891ded0db606359acf18939257a6957a5b3646e0051971e5435b1274"
  },
  "language_info": {
   "codemirror_mode": {
    "name": "ipython",
    "version": 3
   },
   "file_extension": ".py",
   "mimetype": "text/x-python",
   "name": "python",
   "nbconvert_exporter": "python",
   "pygments_lexer": "ipython3",
   "version": "3.8.6"
  }
 },
 "nbformat": 4,
 "nbformat_minor": 5
}
