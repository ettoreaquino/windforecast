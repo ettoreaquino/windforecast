{
 "cells": [
  {
   "cell_type": "markdown",
   "id": "8cd93570-7e7b-421b-85f4-d49f4423f89c",
   "metadata": {},
   "source": [
    "# Forecasting Data\n",
    "\n",
    "This is the **last** notebook of the series.\n",
    "\n",
    "> Make sure you have executed all the previous ones. This notebook is entirely dependent upon the existance of a `model.pkl` file.\n",
    "---"
   ]
  },
  {
   "cell_type": "markdown",
   "id": "09d8e63e-333e-4fa0-9ccb-263308f3eda9",
   "metadata": {},
   "source": [
    "# Objective\n",
    "\n",
    "At last, once trained, our model should be able to perform some predictions. This notebook should forecast some cases and perform analysis on the results obtained.\n",
    "\n",
    "---"
   ]
  }
 ],
 "metadata": {
  "kernelspec": {
   "display_name": "Python 3.8.6 64-bit ('.venv': poetry)",
   "language": "python",
   "name": "python386jvsc74a57bd09ae24440891ded0db606359acf18939257a6957a5b3646e0051971e5435b1274"
  },
  "language_info": {
   "codemirror_mode": {
    "name": "ipython",
    "version": 3
   },
   "file_extension": ".py",
   "mimetype": "text/x-python",
   "name": "python",
   "nbconvert_exporter": "python",
   "pygments_lexer": "ipython3",
   "version": "3.8.6"
  }
 },
 "nbformat": 4,
 "nbformat_minor": 5
}
