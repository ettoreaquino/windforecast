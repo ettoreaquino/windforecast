{
 "cells": [
  {
   "cell_type": "markdown",
   "id": "8cd93570-7e7b-421b-85f4-d49f4423f89c",
   "metadata": {},
   "source": [
    "# Forecasting Data\n",
    "\n",
    "This is the **last** notebook of the series.\n",
    "\n",
    "> Make sure you have executed all the previous ones. This notebook is entirely dependent upon the existance of a `model` directory, which is create upon the execution of the 3_Train.ipynb notebook.\n",
    "---"
   ]
  },
  {
   "cell_type": "markdown",
   "id": "09d8e63e-333e-4fa0-9ccb-263308f3eda9",
   "metadata": {},
   "source": [
    "# Objective\n",
    "\n",
    "At last, once trained, our model should be able to perform some predictions. This notebook should forecast some cases and perform analysis on the results obtained.\n",
    "\n",
    "---"
   ]
  },
  {
   "cell_type": "markdown",
   "id": "1f702db1-745f-476c-9f08-3c8290129cc0",
   "metadata": {},
   "source": [
    "# Loading the Trained Model"
   ]
  },
  {
   "cell_type": "code",
   "execution_count": 1,
   "id": "4577c9f3-a0ed-43d6-8695-f8962e909e6d",
   "metadata": {},
   "outputs": [
    {
     "name": "stderr",
     "output_type": "stream",
     "text": [
      "2021-07-08 18:28:20.319217: W tensorflow/stream_executor/platform/default/dso_loader.cc:64] Could not load dynamic library 'libcudart.so.11.0'; dlerror: libcudart.so.11.0: cannot open shared object file: No such file or directory\n",
      "2021-07-08 18:28:20.319233: I tensorflow/stream_executor/cuda/cudart_stub.cc:29] Ignore above cudart dlerror if you do not have a GPU set up on your machine.\n",
      "2021-07-08 18:28:21.155255: W tensorflow/stream_executor/platform/default/dso_loader.cc:64] Could not load dynamic library 'libcuda.so.1'; dlerror: libcuda.so.1: cannot open shared object file: No such file or directory\n",
      "2021-07-08 18:28:21.155271: W tensorflow/stream_executor/cuda/cuda_driver.cc:326] failed call to cuInit: UNKNOWN ERROR (303)\n",
      "2021-07-08 18:28:21.155282: I tensorflow/stream_executor/cuda/cuda_diagnostics.cc:156] kernel driver does not appear to be running on this host (HM01): /proc/driver/nvidia/version does not exist\n",
      "2021-07-08 18:28:21.155430: I tensorflow/core/platform/cpu_feature_guard.cc:142] This TensorFlow binary is optimized with oneAPI Deep Neural Network Library (oneDNN) to use the following CPU instructions in performance-critical operations:  AVX2 FMA\n",
      "To enable them in other operations, rebuild TensorFlow with the appropriate compiler flags.\n"
     ]
    },
    {
     "name": "stdout",
     "output_type": "stream",
     "text": [
      "Model: \"sequential_1\"\n",
      "_________________________________________________________________\n",
      "Layer (type)                 Output Shape              Param #   \n",
      "=================================================================\n",
      "lstm_1 (LSTM)                (None, 3)                 96        \n",
      "_________________________________________________________________\n",
      "dense_1 (Dense)              (None, 1)                 4         \n",
      "=================================================================\n",
      "Total params: 100\n",
      "Trainable params: 100\n",
      "Non-trainable params: 0\n",
      "_________________________________________________________________\n"
     ]
    }
   ],
   "source": [
    "import pandas as pd\n",
    "import numpy as np\n",
    "from tensorflow import keras\n",
    "\n",
    "df = pd.read_pickle('prep.pkl')\n",
    "model = keras.models.load_model('model')\n",
    "train_X = np.load('trainX.npy')\n",
    "train_Y = np.load('trainY.npy')\n",
    "test_X = np.load('testX.npy')\n",
    "test_Y = np.load('testY.npy')\n",
    "epochs = 100\n",
    "model.summary()"
   ]
  },
  {
   "cell_type": "markdown",
   "id": "402a27c9-4978-4705-83f6-27a64c70abd0",
   "metadata": {},
   "source": [
    "# Forecasting with inputs \n",
    "\n",
    "Now that the model was loaded with the trained sets, the forecasting can finally be executed and evaluated"
   ]
  },
  {
   "cell_type": "code",
   "execution_count": 2,
   "id": "7dbea88d-86da-43ee-a082-ea39579da615",
   "metadata": {},
   "outputs": [
    {
     "name": "stderr",
     "output_type": "stream",
     "text": [
      "2021-07-08 18:28:22.334110: I tensorflow/compiler/mlir/mlir_graph_optimization_pass.cc:176] None of the MLIR Optimization Passes are enabled (registered 2)\n",
      "2021-07-08 18:28:22.350213: I tensorflow/core/platform/profile_utils/cpu_utils.cc:114] CPU Frequency: 2000800000 Hz\n"
     ]
    }
   ],
   "source": [
    "forecast_train = model.predict(train_X)\n",
    "forecast_test = model.predict(test_X)"
   ]
  },
  {
   "cell_type": "markdown",
   "id": "946f4e4f-260e-40b4-829f-17ab6975998e",
   "metadata": {},
   "source": [
    "## Evaluation\n",
    "\n",
    "Since the data was normalized for training, it is important to denormalize it, so that the forecasting could be evaluated from better perspective.\n",
    "\n",
    "In order to do that, it is important to have access to the data that was used for normalization. Since it was pickled in the previous notebook, the next cell rebuilds the scaller from the same base"
   ]
  },
  {
   "cell_type": "code",
   "execution_count": 3,
   "id": "ced50a05-89c6-40cb-9fe0-601622186b21",
   "metadata": {},
   "outputs": [],
   "source": [
    "from sklearn.preprocessing import MinMaxScaler\n",
    "scaler = MinMaxScaler(feature_range=(0, 1))\n",
    "stack_month_df = scaler.fit_transform(df['speed'].to_frame().values)"
   ]
  },
  {
   "cell_type": "markdown",
   "id": "41ed5538-88a1-4c23-99fb-00b553beaf4c",
   "metadata": {},
   "source": [
    "Now that the scaler is loaded, the evaluation can be performed using the __Root Mean Squared Error__:"
   ]
  },
  {
   "cell_type": "code",
   "execution_count": 4,
   "id": "112ea6f0-b612-477f-ae00-117321acdd02",
   "metadata": {},
   "outputs": [
    {
     "name": "stdout",
     "output_type": "stream",
     "text": [
      "Root Mean Squared Error: 1.9770\n"
     ]
    }
   ],
   "source": [
    "trained_forecast = scaler.inverse_transform(forecast_train)\n",
    "trained_expected = scaler.inverse_transform([train_Y])\n",
    "\n",
    "test_forecasted = scaler.inverse_transform(forecast_test)\n",
    "test_expected = scaler.inverse_transform([test_Y])\n",
    "\n",
    "rmse = np.sum(np.sqrt(np.abs((trained_expected - trained_forecast.T) / trained_expected) ** 2)) / epochs\n",
    "print(\"Root Mean Squared Error: {:.4f}\".format(rmse))"
   ]
  },
  {
   "cell_type": "markdown",
   "id": "7979d4b9-a913-421d-9c6b-a4375cdda460",
   "metadata": {},
   "source": [
    "## Visual Evaluation"
   ]
  },
  {
   "cell_type": "markdown",
   "id": "6ebcefc3-a4f7-4aef-bd08-0d7b29a53464",
   "metadata": {},
   "source": [
    "> To be completed..."
   ]
  }
 ],
 "metadata": {
  "kernelspec": {
   "display_name": "Python 3.8.6 64-bit ('.venv': poetry)",
   "language": "python",
   "name": "python386jvsc74a57bd09ae24440891ded0db606359acf18939257a6957a5b3646e0051971e5435b1274"
  },
  "language_info": {
   "codemirror_mode": {
    "name": "ipython",
    "version": 3
   },
   "file_extension": ".py",
   "mimetype": "text/x-python",
   "name": "python",
   "nbconvert_exporter": "python",
   "pygments_lexer": "ipython3",
   "version": "3.8.6"
  }
 },
 "nbformat": 4,
 "nbformat_minor": 5
}
