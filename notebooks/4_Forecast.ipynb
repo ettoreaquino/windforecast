{
 "cells": [
  {
   "cell_type": "markdown",
   "id": "8cd93570-7e7b-421b-85f4-d49f4423f89c",
   "metadata": {},
   "source": [
    "# Forecasting Data\n",
    "\n",
    "This is the **last** notebook of the series.\n",
    "\n",
    "> Make sure you have executed all the previous ones. This notebook is entirely dependent upon the existance of a `model.pkl` file.\n",
    "---"
   ]
  },
  {
   "cell_type": "markdown",
   "id": "09d8e63e-333e-4fa0-9ccb-263308f3eda9",
   "metadata": {},
   "source": [
    "# Objective\n",
    "\n",
    "At last, once trained, our model should be able to perform some predictions. This notebook should forecast some cases and perform analysis on the results obtained.\n",
    "\n",
    "---"
   ]
  },
  {
   "cell_type": "code",
   "execution_count": 3,
   "id": "4577c9f3-a0ed-43d6-8695-f8962e909e6d",
   "metadata": {},
   "outputs": [
    {
     "name": "stdout",
     "output_type": "stream",
     "text": [
      "Model: \"sequential\"\n",
      "_________________________________________________________________\n",
      "Layer (type)                 Output Shape              Param #   \n",
      "=================================================================\n",
      "lstm (LSTM)                  (None, 3)                 96        \n",
      "_________________________________________________________________\n",
      "dense (Dense)                (None, 1)                 4         \n",
      "=================================================================\n",
      "Total params: 100\n",
      "Trainable params: 100\n",
      "Non-trainable params: 0\n",
      "_________________________________________________________________\n"
     ]
    }
   ],
   "source": [
    "import pandas as pd\n",
    "from tensorflow import keras\n",
    "\n",
    "df = pd.read_pickle('explore.pkl')\n",
    "model = keras.models.load_model('model')\n",
    "model.summary()"
   ]
  },
  {
   "cell_type": "code",
   "execution_count": null,
   "id": "001bfeda-0d7a-42ec-ad67-6f51ba624fb6",
   "metadata": {},
   "outputs": [],
   "source": [
    "weights = model.get_weights()[0]\n",
    "bias = model.get_weights()[1]"
   ]
  },
  {
   "cell_type": "code",
   "execution_count": null,
   "id": "112ea6f0-b612-477f-ae00-117321acdd02",
   "metadata": {},
   "outputs": [],
   "source": [
    "# DESNORMALIZAcaO DOS DADOS #\n",
    "from sklearn.preprocessing import MinMaxScaler\n",
    "scaler = MinMaxScaler(feature_range=(0, 1))\n",
    "stack_month_df = scaler.fit_transform(df['speed'].to_frame().values)\n",
    "\n",
    "trainPredicted = scaler.inverse_transform(trainPredicted)\n",
    "trainExpected = scaler.inverse_transform([WindForecaster.train_Y])\n",
    "testePredicted = scaler.inverse_transform(testePredicted)\n",
    "testeExpected = scaler.inverse_transform([WindForecaster.test_Y])"
   ]
  },
  {
   "cell_type": "code",
   "execution_count": null,
   "id": "e0484350-4c6b-44a4-9e33-ebab26cf4c80",
   "metadata": {},
   "outputs": [],
   "source": [
    "import numpy as np\n",
    "\n",
    "rmse = np.sum(np.sqrt(np.abs((trainExpected - trainPredicted.T) / trainExpected) ** 2)) / epochs\n",
    "print(\"RMSE: {}\".format(rmse))"
   ]
  },
  {
   "cell_type": "code",
   "execution_count": null,
   "id": "98d58ced-2fae-47cb-b469-5f9c2702a508",
   "metadata": {},
   "outputs": [],
   "source": []
  }
 ],
 "metadata": {
  "kernelspec": {
   "display_name": "Python 3.8.6 64-bit ('.venv': poetry)",
   "language": "python",
   "name": "python386jvsc74a57bd09ae24440891ded0db606359acf18939257a6957a5b3646e0051971e5435b1274"
  },
  "language_info": {
   "codemirror_mode": {
    "name": "ipython",
    "version": 3
   },
   "file_extension": ".py",
   "mimetype": "text/x-python",
   "name": "python",
   "nbconvert_exporter": "python",
   "pygments_lexer": "ipython3",
   "version": "3.8.6"
  }
 },
 "nbformat": 4,
 "nbformat_minor": 5
}
